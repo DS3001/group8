{
 "cells": [
  {
   "cell_type": "markdown",
   "metadata": {},
   "source": [
    "## DS 3001 Project 2 - Divya Kuruvilla and Glory Gurrola\n",
    "This project is about building predictive algorithms that predict the likelihood a person has a stroke.\n",
    "The strategy to determine the best predictive model was to start by preparing and cleaning the variables in the data set, and then building different models. The models we build were linear models, k means clustering models, and decision trees; the model with the lowest RMSE on the testing data will be the final model.  "
   ]
  },
  {
   "cell_type": "markdown",
   "metadata": {},
   "source": [
    "### Variables\n",
    "The data included for this project contained 12 variables, and their respective descriptions are as follows: \n",
    "\n",
    "- age: Patient age, numeric\n",
    "- avg_glucose_level: Blood sugar levels, numeric\n",
    "- bmi: Body mass index, numeric\n",
    "- ever_married: Ever married, dummy/character (Yes, No)\n",
    "- gender: Male, Female, or Other, character\n",
    "- heart_disease: Has heart disease, dummy\n",
    "- hypertension: Has hypertension, dummy\n",
    "- id: Study identification number\n",
    "- Residence_type: Type of residence, dummy/character (Urban, Rural)\n",
    "- smoking_status: Former, never, or current smoker, categorical\n",
    "- work_type: Employment type (Never worked (Never_worked), homemaker (\"children\"), - Public sector employment (Govt_job), Private sector employment (Private), - Self-employed (Self-employed) )\n",
    "- stroke: Suffered a stroke in the sample period"
   ]
  },
  {
   "cell_type": "markdown",
   "metadata": {},
   "source": [
    "### Cleaning the Variables\n",
    "- Drop id \n",
    "- Impute mean for BMI\n",
    "- Drop missing values"
   ]
  },
  {
   "cell_type": "markdown",
   "metadata": {},
   "source": [
    "### Graphs and Visualizations\n",
    "- Summarize Data and Visualize with KDE and histograms\n",
    "- Address Outliers\n",
    "- Explain quantitative features of data"
   ]
  },
  {
   "cell_type": "markdown",
   "metadata": {},
   "source": [
    "### Linear Models\n"
   ]
  },
  {
   "cell_type": "markdown",
   "metadata": {},
   "source": [
    "### Polynomial Expansion"
   ]
  },
  {
   "cell_type": "markdown",
   "metadata": {},
   "source": [
    "### K means clustering"
   ]
  },
  {
   "cell_type": "markdown",
   "metadata": {},
   "source": [
    "### Decision Trees"
   ]
  },
  {
   "cell_type": "markdown",
   "metadata": {},
   "source": [
    "### Analysis \n",
    "- Talk about research strategy\n",
    "- Main findings (summarize tables/plots/statistics)"
   ]
  }
 ],
 "metadata": {
  "language_info": {
   "name": "python"
  }
 },
 "nbformat": 4,
 "nbformat_minor": 2
}
