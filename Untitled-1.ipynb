{
 "cells": [
  {
   "attachments": {},
   "cell_type": "markdown",
   "metadata": {},
   "source": [
    "# DS 3001 - Project 1: GSS Data"
   ]
  },
  {
   "attachments": {},
   "cell_type": "markdown",
   "metadata": {},
   "source": [
    "#### Glory Gurrola and Divya Kuruvilla"
   ]
  },
  {
   "attachments": {},
   "cell_type": "markdown",
   "metadata": {},
   "source": [
    "## Research Question: How does social class or income affect access to health care?\n",
    "Strategy: \n",
    "- pull data from the GSS columns relating to health care, gender, income, and other things in that topic, and then analyze the trends we find. \n",
    "\n",
    "1. Change variable names to be more clear \n",
    "2. replace nans \n",
    "3. make some pretty graphs "
   ]
  },
  {
   "cell_type": "code",
<<<<<<< HEAD
   "execution_count": 562,
=======
   "execution_count": 1093,
>>>>>>> e723637653273cd0c98ebefe84720f2b7589f8db
   "metadata": {},
   "outputs": [],
   "source": [
    "import pandas as pd\n",
    "data = pd.read_csv('./Project_Data.csv')"
   ]
  },
  {
   "cell_type": "code",
<<<<<<< HEAD
   "execution_count": 563,
=======
   "execution_count": 1094,
>>>>>>> e723637653273cd0c98ebefe84720f2b7589f8db
   "metadata": {},
   "outputs": [
    {
     "data": {
      "text/html": [
       "<div>\n",
       "<style scoped>\n",
       "    .dataframe tbody tr th:only-of-type {\n",
       "        vertical-align: middle;\n",
       "    }\n",
       "\n",
       "    .dataframe tbody tr th {\n",
       "        vertical-align: top;\n",
       "    }\n",
       "\n",
       "    .dataframe thead th {\n",
       "        text-align: right;\n",
       "    }\n",
       "</style>\n",
       "<table border=\"1\" class=\"dataframe\">\n",
       "  <thead>\n",
       "    <tr style=\"text-align: right;\">\n",
       "      <th></th>\n",
       "      <th>wrkstat</th>\n",
       "      <th>income</th>\n",
       "      <th>satfin</th>\n",
       "      <th>finalter</th>\n",
       "      <th>health</th>\n",
       "      <th>helpsick</th>\n",
       "      <th>hlthinsr</th>\n",
       "      <th>doc13</th>\n",
       "      <th>doc14</th>\n",
       "      <th>health1</th>\n",
       "      <th>...</th>\n",
       "      <th>hlthcare</th>\n",
       "      <th>hlthall</th>\n",
       "      <th>hlthcovr</th>\n",
       "      <th>hlthtype</th>\n",
       "      <th>hrdshp6</th>\n",
       "      <th>hlthacc1</th>\n",
       "      <th>hlthacc4</th>\n",
       "      <th>hlthacc3</th>\n",
       "      <th>hlthacc2</th>\n",
       "      <th>prvdhlth</th>\n",
       "    </tr>\n",
       "  </thead>\n",
       "  <tbody>\n",
       "    <tr>\n",
       "      <th>0</th>\n",
       "      <td>working full time</td>\n",
       "      <td>NaN</td>\n",
       "      <td>not satisfied at all</td>\n",
       "      <td>better</td>\n",
       "      <td>good</td>\n",
       "      <td>NaN</td>\n",
       "      <td>NaN</td>\n",
       "      <td>NaN</td>\n",
       "      <td>NaN</td>\n",
       "      <td>NaN</td>\n",
       "      <td>...</td>\n",
       "      <td>NaN</td>\n",
       "      <td>NaN</td>\n",
       "      <td>NaN</td>\n",
       "      <td>NaN</td>\n",
       "      <td>NaN</td>\n",
       "      <td>NaN</td>\n",
       "      <td>NaN</td>\n",
       "      <td>NaN</td>\n",
       "      <td>NaN</td>\n",
       "      <td>NaN</td>\n",
       "    </tr>\n",
       "    <tr>\n",
       "      <th>1</th>\n",
       "      <td>retired</td>\n",
       "      <td>NaN</td>\n",
       "      <td>more or less satisfied</td>\n",
       "      <td>stayed same</td>\n",
       "      <td>fair</td>\n",
       "      <td>NaN</td>\n",
       "      <td>NaN</td>\n",
       "      <td>NaN</td>\n",
       "      <td>NaN</td>\n",
       "      <td>NaN</td>\n",
       "      <td>...</td>\n",
       "      <td>NaN</td>\n",
       "      <td>NaN</td>\n",
       "      <td>NaN</td>\n",
       "      <td>NaN</td>\n",
       "      <td>NaN</td>\n",
       "      <td>NaN</td>\n",
       "      <td>NaN</td>\n",
       "      <td>NaN</td>\n",
       "      <td>NaN</td>\n",
       "      <td>NaN</td>\n",
       "    </tr>\n",
       "    <tr>\n",
       "      <th>2</th>\n",
       "      <td>working part time</td>\n",
       "      <td>NaN</td>\n",
       "      <td>pretty well satisfied</td>\n",
       "      <td>better</td>\n",
       "      <td>excellent</td>\n",
       "      <td>NaN</td>\n",
       "      <td>NaN</td>\n",
       "      <td>NaN</td>\n",
       "      <td>NaN</td>\n",
       "      <td>NaN</td>\n",
       "      <td>...</td>\n",
       "      <td>NaN</td>\n",
       "      <td>NaN</td>\n",
       "      <td>NaN</td>\n",
       "      <td>NaN</td>\n",
       "      <td>NaN</td>\n",
       "      <td>NaN</td>\n",
       "      <td>NaN</td>\n",
       "      <td>NaN</td>\n",
       "      <td>NaN</td>\n",
       "      <td>NaN</td>\n",
       "    </tr>\n",
       "    <tr>\n",
       "      <th>3</th>\n",
       "      <td>working full time</td>\n",
       "      <td>NaN</td>\n",
       "      <td>not satisfied at all</td>\n",
       "      <td>stayed same</td>\n",
       "      <td>good</td>\n",
       "      <td>NaN</td>\n",
       "      <td>NaN</td>\n",
       "      <td>NaN</td>\n",
       "      <td>NaN</td>\n",
       "      <td>NaN</td>\n",
       "      <td>...</td>\n",
       "      <td>NaN</td>\n",
       "      <td>NaN</td>\n",
       "      <td>NaN</td>\n",
       "      <td>NaN</td>\n",
       "      <td>NaN</td>\n",
       "      <td>NaN</td>\n",
       "      <td>NaN</td>\n",
       "      <td>NaN</td>\n",
       "      <td>NaN</td>\n",
       "      <td>NaN</td>\n",
       "    </tr>\n",
       "    <tr>\n",
       "      <th>4</th>\n",
       "      <td>keeping house</td>\n",
       "      <td>NaN</td>\n",
       "      <td>pretty well satisfied</td>\n",
       "      <td>better</td>\n",
       "      <td>good</td>\n",
       "      <td>NaN</td>\n",
       "      <td>NaN</td>\n",
       "      <td>NaN</td>\n",
       "      <td>NaN</td>\n",
       "      <td>NaN</td>\n",
       "      <td>...</td>\n",
       "      <td>NaN</td>\n",
       "      <td>NaN</td>\n",
       "      <td>NaN</td>\n",
       "      <td>NaN</td>\n",
       "      <td>NaN</td>\n",
       "      <td>NaN</td>\n",
       "      <td>NaN</td>\n",
       "      <td>NaN</td>\n",
       "      <td>NaN</td>\n",
       "      <td>NaN</td>\n",
       "    </tr>\n",
       "  </tbody>\n",
       "</table>\n",
       "<p>5 rows × 25 columns</p>\n",
       "</div>"
      ],
      "text/plain": [
       "             wrkstat income                  satfin     finalter     health  \\\n",
       "0  working full time    NaN    not satisfied at all       better       good   \n",
       "1            retired    NaN  more or less satisfied  stayed same       fair   \n",
       "2  working part time    NaN   pretty well satisfied       better  excellent   \n",
       "3  working full time    NaN    not satisfied at all  stayed same       good   \n",
       "4      keeping house    NaN   pretty well satisfied       better       good   \n",
       "\n",
       "  helpsick hlthinsr doc13 doc14 health1  ... hlthcare hlthall hlthcovr  \\\n",
       "0      NaN      NaN   NaN   NaN     NaN  ...      NaN     NaN      NaN   \n",
       "1      NaN      NaN   NaN   NaN     NaN  ...      NaN     NaN      NaN   \n",
       "2      NaN      NaN   NaN   NaN     NaN  ...      NaN     NaN      NaN   \n",
       "3      NaN      NaN   NaN   NaN     NaN  ...      NaN     NaN      NaN   \n",
       "4      NaN      NaN   NaN   NaN     NaN  ...      NaN     NaN      NaN   \n",
       "\n",
       "  hlthtype hrdshp6 hlthacc1 hlthacc4 hlthacc3 hlthacc2 prvdhlth  \n",
       "0      NaN     NaN      NaN      NaN      NaN      NaN      NaN  \n",
       "1      NaN     NaN      NaN      NaN      NaN      NaN      NaN  \n",
       "2      NaN     NaN      NaN      NaN      NaN      NaN      NaN  \n",
       "3      NaN     NaN      NaN      NaN      NaN      NaN      NaN  \n",
       "4      NaN     NaN      NaN      NaN      NaN      NaN      NaN  \n",
       "\n",
       "[5 rows x 25 columns]"
      ]
     },
<<<<<<< HEAD
     "execution_count": 563,
=======
     "execution_count": 1094,
>>>>>>> e723637653273cd0c98ebefe84720f2b7589f8db
     "metadata": {},
     "output_type": "execute_result"
    }
   ],
   "source": [
    "data.head()"
   ]
  },
  {
   "attachments": {},
   "cell_type": "markdown",
   "metadata": {},
   "source": [
    "### Cleaning Variables\n",
    "We are cleaning the variables in the dataframe to get rid of NaN and make the values easier to analyze.\n"
   ]
  },
  {
   "cell_type": "code",
<<<<<<< HEAD
   "execution_count": 564,
=======
   "execution_count": 1095,
>>>>>>> e723637653273cd0c98ebefe84720f2b7589f8db
   "metadata": {},
   "outputs": [
    {
     "name": "stdout",
     "output_type": "stream",
     "text": [
      "['not satisfied at all' 'more or less satisfied' 'pretty well satisfied'\n",
      " nan 'satfin']\n",
      "Missing values Before Cleaning:  4668 \n",
      "\n",
      "Number of Instances After Cleaning:  \n",
      " satfin\n",
      "more or less satisfied    29987\n",
      "pretty well satisfied     19726\n",
      "not satisfied at all      18009\n",
      "no response                4668\n",
      "Name: count, dtype: int64 \n",
      "\n",
      "Unique 'Type' values after cleaning: ['not satisfied at all' 'more or less satisfied' 'pretty well satisfied'\n",
      " 'no response'] \n",
      "\n",
      "Missing values After Cleaning:  0 \n",
      "\n"
     ]
    }
   ],
   "source": [
    "# Cleaning the Variale 'satfin'\n",
    "# From the GSS codebook, this variable stands for \"satisfaction with financial situation\"\n",
    "# The question asked was \"So far as you and your family are concerned, would you say that you are pretty \n",
    "# well satisfied with your present financial situation, more or less satisfied, or not satisfied at all?\"\n",
    "# The data for this question was collected from every year of the survery, from 1972-2022\n",
    "\n",
    "# Check for the Number of Missing Values\n",
    "print(data['satfin'].unique())\n",
    "missing = data['satfin'].isnull().sum()\n",
    "print(\"Missing values Before Cleaning: \", missing, '\\n')\n",
    "\n",
    "# Impute NaN values with 'No Response'\n",
    "# Replace the NaN values in the variable with No Response since this is a categorical variable.\n",
    "# No Response is more helpful than NaN when we make graphs and visualizations.\n",
    "data['satfin'].fillna('no response', inplace= True)\n",
    "data = data[data['satfin'] != 'satfin']\n",
    "\n",
    "# Count the number of instances of each unique value in the column \n",
    "print(\"Number of Instances After Cleaning: \", '\\n', data['satfin'].value_counts(), '\\n')\n",
    "\n",
    "# Check for Unique Types After Cleaning\n",
    "unique_types_cleaned = data['satfin'].unique()\n",
    "print(\"Unique 'Type' values after cleaning:\", unique_types_cleaned, '\\n')\n",
    "\n",
    "#Print missing values after cleaning\n",
    "missing = data['satfin'].isnull().sum()\n",
    "print(\"Missing values After Cleaning: \", missing, '\\n')\n"
   ]
  },
  {
   "cell_type": "code",
<<<<<<< HEAD
   "execution_count": 565,
=======
   "execution_count": 1096,
>>>>>>> e723637653273cd0c98ebefe84720f2b7589f8db
   "metadata": {},
   "outputs": [
    {
     "name": "stdout",
     "output_type": "stream",
     "text": [
      "[nan 'yes' 'no' 'maybe']\n",
      "Missing values Before Cleaning:  69661 \n",
      "\n",
      "Number of Instances After Cleaning:  \n",
      " insrchng\n",
      "no response    69661\n",
      "no              1366\n",
      "yes              926\n",
      "maybe            437\n",
      "Name: count, dtype: int64 \n",
      "\n",
      "Unique 'Type' values after cleaning: ['no response' 'yes' 'no' 'maybe'] \n",
      "\n",
      "Missing values After Cleaning:  0 \n",
      "\n"
     ]
    }
   ],
   "source": [
    "# Cleaning the Variale 'insrchng'\n",
    "# From the GSS codebook, this variable stands for \"would change insurance plans\"\n",
    "# The question asked was \"Based on what the doctor has just told you, if you could, would you \n",
    "# switch health insurance plans?\"\n",
    "# The data for this question was collected from 2002\n",
    "\n",
    "# Check for the Number of Missing Values\n",
    "print(data['insrchng'].unique())\n",
    "missing = data['insrchng'].isnull().sum()\n",
    "print(\"Missing values Before Cleaning: \", missing, '\\n')\n",
    "\n",
    "# Impute NaN values with 'No Response'\n",
    "# Replace the NaN values in the variable with No Response since this is a categorical variable.\n",
    "# No Response is more helpful than NaN when we make graphs and visualizations.\n",
    "data['insrchng'].fillna('no response', inplace= True)\n",
    "data = data[data['insrchng'] != 'insrchng']\n",
    "\n",
    "# Count the number of instances of each unique value in the column \n",
    "print(\"Number of Instances After Cleaning: \", '\\n', data['insrchng'].value_counts(), '\\n')\n",
    "\n",
    "# Check for Unique Types After Cleaning\n",
    "unique_types_cleaned = data['insrchng'].unique()\n",
    "print(\"Unique 'Type' values after cleaning:\", unique_types_cleaned, '\\n')\n",
    "\n",
    "#Print missing values after cleaning\n",
    "missing = data['insrchng'].isnull().sum()\n",
    "print(\"Missing values After Cleaning: \", missing, '\\n')\n"
   ]
  },
  {
   "cell_type": "code",
<<<<<<< HEAD
   "execution_count": 566,
=======
   "execution_count": 1097,
>>>>>>> e723637653273cd0c98ebefe84720f2b7589f8db
   "metadata": {},
   "outputs": [
    {
     "name": "stdout",
     "output_type": "stream",
     "text": [
      "[nan 'no' 'yes']\n",
      "Missing values Before Cleaning:  70195 \n",
      "\n",
      "Number of Instances After Cleaning:  \n",
      " insrlmts\n",
      "no response    70195\n",
      "yes             1190\n",
      "no              1005\n",
      "Name: count, dtype: int64 \n",
      "\n",
      "Unique 'Type' values after cleaning: ['no response' 'no' 'yes'] \n",
      "\n",
      "Missing values After Cleaning:  0 \n",
      "\n"
     ]
    }
   ],
   "source": [
    "# Cleaning the Variale 'insrlmts'\n",
    "# From the GSS codebook, this variable stands for \"insurance plan has limits\"\n",
    "# The question asked was \"Does your health insurance plan have restrictions, for example limits on \n",
    "# getting tests and getting care from specialists?\"\n",
    "# The data for this question was collected from 2002\n",
    "\n",
    "# Check for the Number of Missing Values\n",
    "print(data['insrlmts'].unique())\n",
    "missing = data['insrlmts'].isnull().sum()\n",
    "print(\"Missing values Before Cleaning: \", missing, '\\n')\n",
    "\n",
    "# Impute NaN values with 'No Response'\n",
    "# Replace the NaN values in the variable with No Response since this is a categorical variable.\n",
    "# No Response is more helpful than NaN when we make graphs and visualizations.\n",
    "data['insrlmts'].fillna('no response', inplace= True)\n",
    "data = data[data['insrlmts'] != 'insrlmts']\n",
    "\n",
    "# Count the number of instances of each unique value in the column \n",
    "print(\"Number of Instances After Cleaning: \", '\\n', data['insrlmts'].value_counts(), '\\n')\n",
    "\n",
    "# Check for Unique Types After Cleaning\n",
    "unique_types_cleaned = data['insrlmts'].unique()\n",
    "print(\"Unique 'Type' values after cleaning:\", unique_types_cleaned, '\\n')\n",
    "\n",
    "#Print missing values after cleaning\n",
    "missing = data['insrlmts'].isnull().sum()\n",
    "print(\"Missing values After Cleaning: \", missing, '\\n')"
   ]
  },
  {
   "cell_type": "code",
<<<<<<< HEAD
   "execution_count": 567,
=======
   "execution_count": 1098,
>>>>>>> e723637653273cd0c98ebefe84720f2b7589f8db
   "metadata": {},
   "outputs": [
    {
     "name": "stdout",
     "output_type": "stream",
     "text": [
      "[nan 'no' 'yes']\n",
      "Missing values Before Cleaning:  70013 \n",
      "\n",
      "Number of Instances After Cleaning:  \n",
      " diffcare\n",
      "no response    70013\n",
      "no              1961\n",
      "yes              416\n",
      "Name: count, dtype: int64 \n",
      "\n",
      "Unique 'Type' values after cleaning: ['no response' 'no' 'yes'] \n",
      "\n",
      "Missing values After Cleaning:  0 \n",
      "\n"
     ]
    }
   ],
   "source": [
    "# Cleaning the Variale diffcare\n",
    "# From the GSS codebook, this variable stands for \"r had difficulty getting specialty care\"\n",
    "# The question asked was \"Have you, or anyone in your household, ever had difficulty getting a test or getting care from a specialist \n",
    "# when you felt you needed to?\"\n",
    "# The data for this question was collected from 2002\n",
    "\n",
    "# Check for the Number of Missing Values\n",
    "print(data['diffcare'].unique())\n",
    "missing = data['diffcare'].isnull().sum()\n",
    "print(\"Missing values Before Cleaning: \", missing, '\\n')\n",
    "\n",
    "# Impute NaN values with 'No Response'\n",
    "# Replace the NaN values in the variable with No Response since this is a categorical variable.\n",
    "# No Response is more helpful than NaN when we make graphs and visualizations.\n",
    "data['diffcare'].fillna('no response', inplace= True)\n",
    "data = data[data['diffcare'] != 'diffcare']\n",
    "\n",
    "# Count the number of instances of each unique value in the column \n",
    "print(\"Number of Instances After Cleaning: \", '\\n', data['diffcare'].value_counts(), '\\n')\n",
    "\n",
    "# Check for Unique Types After Cleaning\n",
    "unique_types_cleaned = data['diffcare'].unique()\n",
    "print(\"Unique 'Type' values after cleaning:\", unique_types_cleaned, '\\n')\n",
    "\n",
    "#Print missing values after cleaning\n",
    "missing = data['diffcare'].isnull().sum()\n",
    "print(\"Missing values After Cleaning: \", missing, '\\n')"
   ]
  },
  {
   "cell_type": "code",
<<<<<<< HEAD
   "execution_count": 568,
=======
   "execution_count": 1099,
>>>>>>> e723637653273cd0c98ebefe84720f2b7589f8db
   "metadata": {},
   "outputs": [
    {
     "name": "stdout",
     "output_type": "stream",
     "text": [
      "[nan 'no' 'yes']\n",
      "Missing values Before Cleaning:  69635 \n",
      "\n",
      "Number of Instances After Cleaning:  \n",
      " hlthplan\n",
      "no response    69635\n",
      "yes             2387\n",
      "no               368\n",
      "Name: count, dtype: int64 \n",
      "\n",
      "Unique 'Type' values after cleaning: ['no response' 'no' 'yes'] \n",
      "\n",
      "Missing values After Cleaning:  0 \n",
      "\n"
     ]
    }
   ],
   "source": [
    "# Cleaning the Variale hlthplan\n",
    "# From the GSS codebook, this variable stands for \"r had medicare or medicaid\"\n",
    "# The question asked was \"Do you have any health insurance, including Medicare or Medicaid?\"\n",
    "\n",
    "# Check for the Number of Missing Values\n",
    "print(data['hlthplan'].unique())\n",
    "missing = data['hlthplan'].isnull().sum()\n",
    "print(\"Missing values Before Cleaning: \", missing, '\\n')\n",
    "\n",
    "# Impute NaN values with 'No Response'\n",
    "# Replace the NaN values in the variable with No Response since this is a categorical variable.\n",
    "# No Response is more helpful than NaN when we make graphs and visualizations.\n",
    "data['hlthplan'].fillna('no response', inplace= True)\n",
    "data = data[data['hlthplan'] != 'hlthplan']\n",
    "\n",
    "# Count the number of instances of each unique value in the column \n",
    "print(\"Number of Instances After Cleaning: \", '\\n', data['hlthplan'].value_counts(), '\\n')\n",
    "\n",
    "# Check for Unique Types After Cleaning\n",
    "unique_types_cleaned = data['hlthplan'].unique()\n",
    "print(\"Unique 'Type' values after cleaning:\", unique_types_cleaned, '\\n')\n",
    "\n",
    "#Print missing values after cleaning\n",
    "missing = data['hlthplan'].isnull().sum()\n",
    "print(\"Missing values After Cleaning: \", missing, '\\n')"
   ]
  },
  {
   "cell_type": "code",
<<<<<<< HEAD
   "execution_count": 569,
=======
   "execution_count": 1100,
>>>>>>> e723637653273cd0c98ebefe84720f2b7589f8db
   "metadata": {},
   "outputs": [
    {
     "name": "stdout",
     "output_type": "stream",
     "text": [
      "[nan 'yes covered' 'no not covered']\n",
      "Missing values Before Cleaning:  71008 \n",
      "\n",
      "Number of Instances After Cleaning:  \n",
      " hlthinsr\n",
      "no response       71008\n",
      "yes covered        1189\n",
      "no not covered      193\n",
      "Name: count, dtype: int64 \n",
      "\n",
      "Unique 'Type' values after cleaning: ['no response' 'yes covered' 'no not covered'] \n",
      "\n",
      "Missing values After Cleaning:  0 \n",
      "\n"
     ]
    }
   ],
   "source": [
    "# Cleaning the Variale hlthinsr\n",
    "# From the GSS codebook, this variable stands for \"have health insurace\"\n",
    "# The question asked was \"Are you, yourself, covered by health insurance, a government plan like \n",
    "# Medicare or Medicaid, or some other plan that pays for your medical care?\"\n",
    "# This specific variable contains data specifically from 1998\n",
    "\n",
    "# Check for the Number of Missing Values\n",
    "print(data['hlthinsr'].unique())\n",
    "missing = data['hlthinsr'].isnull().sum()\n",
    "print(\"Missing values Before Cleaning: \", missing, '\\n')\n",
    "\n",
    "# Impute NaN values with 'No Response'\n",
    "# Replace the NaN values in the variable with No Response since this is a categorical variable.\n",
    "# No Response is more helpful than NaN when we make graphs and visualizations.\n",
    "data['hlthinsr'].fillna('no response', inplace= True)\n",
    "\n",
    "# We decided to just drop the value 'hlthinsr' within this column\n",
    "# Having the name of the column as a unique value won't be helpful when we create our visualizations\n",
    "# Drop the instances that say 'finalter'\n",
    "data = data[data['hlthinsr'] != 'hlthinsr']\n",
    "\n",
    "# Count the number of instances of each unique value in the column \n",
    "print(\"Number of Instances After Cleaning: \", '\\n', data['hlthinsr'].value_counts(), '\\n')\n",
    "\n",
    "# Check for Unique Types After Cleaning\n",
    "unique_types_cleaned = data['hlthinsr'].unique()\n",
    "print(\"Unique 'Type' values after cleaning:\", unique_types_cleaned, '\\n')\n",
    "\n",
    "#Print missing values after cleaning\n",
    "missing = data['hlthinsr'].isnull().sum()\n",
    "print(\"Missing values After Cleaning: \", missing, '\\n')"
   ]
  },
  {
   "cell_type": "code",
<<<<<<< HEAD
   "execution_count": 570,
=======
   "execution_count": 1101,
>>>>>>> e723637653273cd0c98ebefe84720f2b7589f8db
   "metadata": {},
   "outputs": [
    {
     "name": "stdout",
     "output_type": "stream",
     "text": [
      "[nan 'disagree' 'agree' 'strong disagree' 'uncertain' 'strongly agree']\n",
      "Missing values Before Cleaning:  71033 \n",
      "\n",
      "Number of Instances After Cleaning:  \n",
      " doc13\n",
      "no response        71033\n",
      "disagree             734\n",
      "agree                261\n",
      "uncertain            185\n",
      "strong disagree      118\n",
      "strongly agree        59\n",
      "Name: count, dtype: int64 \n",
      "\n"
     ]
    }
   ],
   "source": [
    "# Cleaning the Variale doc13 \n",
    "# From the GSS codebook, this variable stands for \"doctors deny me the treatment needed\"\n",
    "# The qustion asked was \"I worry that I will be denied the treatment or services I need\"\n",
    "# The question was answered on a scale of 1 to 5 where 1 = Strongly Agree 2 = Agree 3 = Uncertain 4 = Disagree 5 = Strong Disagree\n",
    "# The data responses for this question are from the 1998 survey\n",
    "\n",
    "# Check for the Number of Missing Values\n",
    "print(data['doc13'].unique())\n",
    "missing = data['doc13'].isnull().sum()\n",
    "print(\"Missing values Before Cleaning: \", missing, '\\n')\n",
    "\n",
    "# To clean this variable, we replaced the nan with \"No response\"\n",
    "\n",
    "# Replace the NaN values in the variable with No Response since this is a categorical variable.\n",
    "# No Response is more helpful than NaN when we make graphs and visualizations.\n",
    "data['doc13'].fillna('no response', inplace= True)\n",
    "\n",
    "# Rather than having numbers as the data, we replaced the numbers with their actual meaning in order to make the data \n",
    "# more clear and understandable without needing to access the GSS data to see what the numbers represent \n",
    "\n",
    "# value_mapping = {\n",
    "#     '1.0': 'STRONGLY AGREE',\n",
    "#     '2.0': 'AGREE',\n",
    "#     '3.0': 'UNCERTAIN',\n",
    "#     '4.0': 'DISAGREE',\n",
    "#     '5.0': 'STRONGLY DISAGREE',\n",
    "# }\n",
    "# data['doc13'].replace(value_mapping, inplace=True)\n",
    "\n",
    "# Count the number of instances of each unique value in the column \n",
    "print(\"Number of Instances After Cleaning: \", '\\n', data['doc13'].value_counts(), '\\n')\n"
   ]
  },
  {
   "cell_type": "code",
<<<<<<< HEAD
   "execution_count": 571,
=======
   "execution_count": 1102,
>>>>>>> e723637653273cd0c98ebefe84720f2b7589f8db
   "metadata": {},
   "outputs": [
    {
     "name": "stdout",
     "output_type": "stream",
     "text": [
      "[nan 'definitely should be' 'probably should be' 'probably should not be'\n",
      " 'definitely should not be']\n",
      "Missing values Before Cleaning:  66475 \n",
      "\n",
      "Number of Instances After Cleaning:  \n",
      " hlthcare\n",
      "no response                 66475\n",
      "definitely should be         2704\n",
      "probably should be           2435\n",
      "probably should not be        582\n",
      "definitely should not be      194\n",
      "Name: count, dtype: int64 \n",
      "\n",
      "Unique 'Type' values after cleaning: ['no response' 'definitely should be' 'probably should be'\n",
      " 'probably should not be' 'definitely should not be'] \n",
      "\n",
      "Missing values After Cleaning:  0 \n",
      "\n"
     ]
    }
   ],
   "source": [
    "# Cleaning the hlthcare variable\n",
    "# From the GSS codebook, this variable stands for \"govts resp. provide hlth care for sick\"\n",
    "# The question asked was \"On the whole, do you think it should or should not be the government's responsibility to . . . \n",
    "        # Provide health care for the sick.\"\n",
    "\n",
    "# Check for the Number of Missing Values \n",
    "print(data['hlthcare'].unique())\n",
    "missing = data['hlthcare'].isnull().sum()\n",
    "print(\"Missing values Before Cleaning: \", missing, '\\n')\n",
    "\n",
    "# Impute NaN values with 'No Response'\n",
    "# Replace the NaN values in the variable with No Response since this is a categorical variable.\n",
    "# No Response is more helpful than NaN when we make graphs and visualizations.\n",
    "data['hlthcare'].fillna('no response', inplace= True)\n",
    "\n",
    "# We decided to just drop the value 'finalter' within this column\n",
    "# Having the name of the column as a unique value won't be helpful when we create our visualizations\n",
    "# Drop the instances that say 'finalter'\n",
    "data = data[data['hlthcare'] != 'hlthcare']\n",
    "\n",
    "# Count the number of instances of each unique value in the column \n",
    "print(\"Number of Instances After Cleaning: \", '\\n', data['hlthcare'].value_counts(), '\\n')\n",
    "\n",
    "# Check for Unique Types After Cleaning\n",
    "unique_types_cleaned = data['hlthcare'].unique()\n",
    "print(\"Unique 'Type' values after cleaning:\", unique_types_cleaned, '\\n')\n",
    "\n",
    "#Print missing values after cleaning\n",
    "missing = data['hlthcare'].isnull().sum()\n",
    "print(\"Missing values After Cleaning: \", missing, '\\n')\n",
    "\n"
   ]
  },
  {
   "cell_type": "code",
<<<<<<< HEAD
   "execution_count": 572,
=======
   "execution_count": 1103,
>>>>>>> e723637653273cd0c98ebefe84720f2b7589f8db
   "metadata": {},
   "outputs": [
    {
     "name": "stdout",
     "output_type": "stream",
     "text": [
      "['better' 'stayed same' 'worse' nan]\n",
      "Missing values Before Cleaning:  4795 \n",
      "\n",
      "Number of Instances After Cleaning:  \n",
      " finalter\n",
      "stayed same    26780\n",
      "better         25358\n",
      "worse          15457\n",
      "no response     4795\n",
      "Name: count, dtype: int64 \n",
      "\n",
      "Unique 'Type' values after cleaning: ['better' 'stayed same' 'worse' 'no response'] \n",
      "\n",
      "Missing values After Cleaning:  0 \n",
      "\n"
     ]
    }
   ],
   "source": [
    "# Cleaning the finalter variable\n",
    "# From the GSS codebook, this variable stands for \"change in financial situation\"\n",
    "# The question asked was \"During the last few years, has your financial situation been getting better, worse, or has it stayed the same?\"\n",
    "# This question was asked in all 34 years of the survey\n",
    "\n",
    "# Check for the Number of Missing Values \n",
    "print(data['finalter'].unique())\n",
    "missing = data['finalter'].isnull().sum()\n",
    "print(\"Missing values Before Cleaning: \", missing, '\\n')\n",
    "\n",
    "# Impute NaN values with 'No Response'\n",
    "# Replace the NaN values in the variable with 'No Response' since this is a categorical variable.\n",
    "# When making our graphs and visualization, we can represent NaN with 'No Response' to keep our categorical variables consistent.\n",
    "data['finalter'].fillna('no response', inplace= True)\n",
    "\n",
    "# We decided to just drop the value 'finalter' within this column\n",
    "# Having the name of the column as a unique value won't be helpful when we create our visualizations\n",
    "# Drop the instances that say 'finalter'\n",
    "data = data[data['finalter'] != 'finalter']\n",
    "\n",
    "# Count the number of instances of each unique value in the column \n",
    "print(\"Number of Instances After Cleaning: \", '\\n', data['finalter'].value_counts(), '\\n')\n",
    "\n",
    "# Check for Unique Types After CLeaning\n",
    "unique_types_cleaned = data['finalter'].unique()\n",
    "print(\"Unique 'Type' values after cleaning:\", unique_types_cleaned, '\\n')\n",
    "\n",
    "#Print missing values after cleaning\n",
    "missing = data['finalter'].isnull().sum()\n",
    "print(\"Missing values After Cleaning: \", missing, '\\n')\n",
    "\n",
    "\n"
   ]
  },
  {
   "cell_type": "code",
<<<<<<< HEAD
   "execution_count": 573,
=======
   "execution_count": 1104,
>>>>>>> e723637653273cd0c98ebefe84720f2b7589f8db
   "metadata": {},
   "outputs": [
    {
     "name": "stdout",
     "output_type": "stream",
     "text": [
      "[nan '$10,000 to $14,999' '$7,000 to $7,999' '$4,000 to $4,999'\n",
      " '$1,000 to $2,999' '$15,000 to $19,999' '$5,000 to $5,999'\n",
      " '$20,000 to $24,999' '$3,000 to $3,999' 'under $1,000' '$8,000 to $9,999'\n",
      " '$25,000 or more' '$6,000 to $6,999']\n",
      "Missing values Before Cleaning:  8951 \n",
      "\n",
      "Number of Instances After Cleaning:  \n",
      " income\n",
      "$25,000 or more       34785\n",
      "$10,000 to $14,999     6850\n",
      "$20,000 to $24,999     5528\n",
      "$15,000 to $19,999     5301\n",
      "$8,000 to $9,999       2285\n",
      "$1,000 to $2,999       1412\n",
      "$7,000 to $7,999       1315\n",
      "$5,000 to $5,999       1314\n",
      "$3,000 to $3,999       1309\n",
      "$6,000 to $6,999       1249\n",
      "$4,000 to $4,999       1189\n",
      "under $1,000            902\n",
      "Name: count, dtype: int64 \n",
      "\n",
      "Unique 'Type' values after cleaning: ['$10,000 to $14,999' '$7,000 to $7,999' '$4,000 to $4,999'\n",
      " '$1,000 to $2,999' '$15,000 to $19,999' '$5,000 to $5,999'\n",
      " '$20,000 to $24,999' '$3,000 to $3,999' 'under $1,000' '$8,000 to $9,999'\n",
      " '$25,000 or more' '$6,000 to $6,999'] \n",
      "\n",
      "Missing values After Cleaning:  0 \n",
      "\n"
     ]
    }
   ],
   "source": [
    "# Cleaning the Income Variable \n",
    "# From the GSS codebook, the income variable stands for \"total family income\"\n",
    "# The question asked was \"In which of these groups did your total family income, from all sources, fall last year before taxes, that is? Just tell me the letter.\"\n",
    "# The data provided from the GSS had ranges of incomes.\n",
    "\n",
    "# Check for the Number of Missing Values \n",
    "print(data['income'].unique())\n",
    "missing = data['income'].isnull().sum()\n",
    "print(\"Missing values Before Cleaning: \", missing, '\\n')\n",
    "\n",
    "# To clean the income variable, we decided to drop the NaN.\n",
    "# For our research question, we want to do analysis on income related to healthcare data points.\n",
    "# Thus, it was not useful to keep the NaN values when making visualizations so we dropped them.\n",
    "data = data.dropna(subset=['income'])\n",
    "\n",
    "# Count the number of instances of each unique value in the column \n",
    "print(\"Number of Instances After Cleaning: \", '\\n', data['income'].value_counts(), '\\n')\n",
    "\n",
    "# Check for Unique Types After Cleaning\n",
    "unique_types_cleaned = data['income'].unique()\n",
    "print(\"Unique 'Type' values after cleaning:\", unique_types_cleaned, '\\n')\n",
    "\n",
    "#Print missing values after cleaning\n",
    "missing = data['income'].isnull().sum()\n",
    "print(\"Missing values After Cleaning: \", missing, '\\n')"
   ]
  },
  {
   "cell_type": "code",
<<<<<<< HEAD
   "execution_count": 574,
=======
   "execution_count": 1105,
>>>>>>> e723637653273cd0c98ebefe84720f2b7589f8db
   "metadata": {},
   "outputs": [
    {
     "name": "stdout",
     "output_type": "stream",
     "text": [
      "['fair' 'good' 'excellent' 'poor' nan]\n",
      "Missing values Before Cleaning:  15409 \n",
      "\n",
      "Number of Instances After Cleaning:  \n",
      " health\n",
      "good           22411\n",
      "no response    15409\n",
      "excellent      13873\n",
      "fair            9204\n",
      "poor            2542\n",
      "Name: count, dtype: int64 \n",
      "\n",
      "Unique 'Type' values after cleaning: ['fair' 'good' 'excellent' 'poor' 'no response'] \n",
      "\n",
      "Missing values After Cleaning:  0 \n",
      "\n"
     ]
    }
   ],
   "source": [
    "\n",
    "# Cleaning the health variable \n",
    "# From the GSS codebook, the variable stands for the \"conditon of health.\"\n",
    "# The question asked was \"Would you say your own health, in general, is excellent, good, fair, or  poor?\"\n",
    "\n",
    "# Check for the Number of Missing Values\n",
    "print(data['health'].unique())\n",
    "missing = data['health'].isnull().sum()\n",
    "print(\"Missing values Before Cleaning: \", missing, '\\n')\n",
    "\n",
    "# Impute NaN values with 'No Response'\n",
    "# Replace the NaN values in the variable with 'No Response' since this is a categorical variable.\n",
    "# When making our graphs and visualization, we can represent NaN with 'No Response' to keep our categorical variables consistent.\n",
    "data['health'].fillna('no response', inplace= True)\n",
    "\n",
    "# Count the number of instances of each unique value in the column \n",
    "print(\"Number of Instances After Cleaning: \", '\\n', data['health'].value_counts(), '\\n')\n",
    "\n",
    "# Check for Unique Types After CLeaning\n",
    "unique_types_cleaned = data['health'].unique()\n",
    "print(\"Unique 'Type' values after cleaning:\", unique_types_cleaned, '\\n')\n",
    "\n",
    "#Print missing values after cleaning\n",
    "missing = data['health'].isnull().sum()\n",
    "print(\"Missing values After Cleaning: \", missing, '\\n')\n"
   ]
  },
  {
   "cell_type": "code",
<<<<<<< HEAD
   "execution_count": 575,
=======
   "execution_count": 1106,
>>>>>>> e723637653273cd0c98ebefe84720f2b7589f8db
   "metadata": {},
   "outputs": [
    {
     "name": "stdout",
     "output_type": "stream",
     "text": [
      "[nan 'private companies/for-profit organizations' 'government'\n",
      " 'non-profit organizations/charities/cooperatives'\n",
      " 'family, relatives or friends' 'religious organizations']\n",
      "Missing values Before Cleaning:  61201 \n",
      "\n",
      "Number of Instances After Cleaning:  \n",
      " prvdhlth\n",
      "no response                                        61201\n",
      "government                                          1311\n",
      "private companies/for-profit organizations           479\n",
      "non-profit organizations/charities/cooperatives      261\n",
      "family, relatives or friends                         166\n",
      "religious organizations                               21\n",
      "Name: count, dtype: int64 \n",
      "\n",
      "Unique 'Type' values after cleaning: ['no response' 'private companies/for-profit organizations' 'government'\n",
      " 'non-profit organizations/charities/cooperatives'\n",
      " 'family, relatives or friends' 'religious organizations'] \n",
      "\n",
      "Missing values After Cleaning:  0 \n",
      "\n"
     ]
    }
   ],
   "source": [
    "# Cleaning the prvdhlth variable\n",
    "# From the GSS codebook, this variable stands for \"who provides for sick people.\"\n",
    "# The question asked was \"People have different opinions on who should provide services in America. Who do you think should primarily provide... Healthcare for the sick?  Should it be...  \"\n",
    "\n",
    "# Check for the Number of Missing Values\n",
    "print(data['prvdhlth'].unique())\n",
    "missing = data['prvdhlth'].isnull().sum()\n",
    "print(\"Missing values Before Cleaning: \", missing, '\\n')\n",
    "\n",
    "# Impute NaN values with 'No Response'\n",
    "# Replace the NaN values in the WhoShouldProvideHealthCare variable with No Response since WhoShouldProvideHealthCare is a categorical variable.\n",
    "# No Response is more helpful than NaN when we make graphs and visualizations.\n",
    "data['prvdhlth'].fillna('no response', inplace= True)\n",
    "\n",
    "# Count the number of instances of each unique value in the column \n",
    "print(\"Number of Instances After Cleaning: \", '\\n', data['prvdhlth'].value_counts(), '\\n')\n",
    "\n",
    "# Check for Unique Types After Cleaning\n",
    "unique_types_cleaned = data['prvdhlth'].unique()\n",
    "print(\"Unique 'Type' values after cleaning:\", unique_types_cleaned, '\\n')\n",
    "\n",
    "#Print missing values after cleaning\n",
    "missing = data['prvdhlth'].isnull().sum()\n",
    "print(\"Missing values After Cleaning: \", missing, '\\n')\n"
   ]
  },
  {
   "cell_type": "code",
<<<<<<< HEAD
   "execution_count": 576,
=======
   "execution_count": 1107,
>>>>>>> e723637653273cd0c98ebefe84720f2b7589f8db
   "metadata": {},
   "outputs": [
    {
     "name": "stdout",
     "output_type": "stream",
     "text": [
      "['working full time' 'keeping house' 'retired' 'working part time'\n",
      " 'in school'\n",
      " 'with a job, but not at work because of temporary illness, vacation, strike'\n",
      " 'other' 'unemployed, laid off, looking for work' nan]\n",
      "Missing values Before Cleaning:  11 \n",
      "\n",
      "Number of Instances After Cleaning:  \n",
      " wrkstat\n",
      "working full time                                                             32052\n",
      "retired                                                                        9087\n",
      "keeping house                                                                  8922\n",
      "working part time                                                              6551\n",
      "unemployed, laid off, looking for work                                         2256\n",
      "in school                                                                      1825\n",
      "with a job, but not at work because of temporary illness, vacation, strike     1384\n",
      "other                                                                          1351\n",
      "no response                                                                      11\n",
      "Name: count, dtype: int64 \n",
      "\n",
      "Unique 'Type' values after cleaning: ['working full time' 'keeping house' 'retired' 'working part time'\n",
      " 'in school'\n",
      " 'with a job, but not at work because of temporary illness, vacation, strike'\n",
      " 'other' 'unemployed, laid off, looking for work' 'no response'] \n",
      "\n",
      "Missing values After Cleaning:  0 \n",
      "\n"
     ]
    }
   ],
   "source": [
    "# Cleaning the WorkStatus variable \n",
    "# From the GSS codebook, this variable stands for the \"labor force status.\"\n",
    "# The question asked was \"Last week were you working full time, part time, going to school, keeping house, or what?\"\n",
    "\n",
    "# Check for the Number of Missing Values\n",
    "print(data['wrkstat'].unique())\n",
    "missing = data['wrkstat'].isnull().sum()\n",
    "print(\"Missing values Before Cleaning: \", missing, '\\n')\n",
    "\n",
    "# Impute NaN values with 'No Response'\n",
    "# Replace the NaN values in the variable with No Response since this is a categorical variable.\n",
    "# No Response is more helpful than NaN when we make graphs and visualizations.\n",
    "data['wrkstat'].fillna('no response', inplace= True)\n",
    "\n",
    "# Count the number of instances of each unique value in the column \n",
    "print(\"Number of Instances After Cleaning: \", '\\n', data['wrkstat'].value_counts(), '\\n')\n",
    "\n",
    "# Check for Unique Types After Cleaning\n",
    "unique_types_cleaned = data['wrkstat'].unique()\n",
    "print(\"Unique 'Type' values after cleaning:\", unique_types_cleaned, '\\n')\n",
    "\n",
    "#Print missing values after cleaning\n",
    "missing = data['wrkstat'].isnull().sum()\n",
    "print(\"Missing values After Cleaning: \", missing, '\\n')"
   ]
  },
  {
   "cell_type": "code",
<<<<<<< HEAD
   "execution_count": 577,
=======
   "execution_count": 1108,
>>>>>>> e723637653273cd0c98ebefe84720f2b7589f8db
   "metadata": {},
   "outputs": [
    {
     "name": "stdout",
     "output_type": "stream",
     "text": [
      "health1\n",
      "good         2956\n",
      "very good    2800\n",
      "excellent    2181\n",
      "fair         1271\n",
      "poor          202\n",
      "Name: count, dtype: int64\n",
      "\n",
      "Missing values Before Cleaning:  54029 \n",
      "\n",
      "Missing values After Cleaning:  0 \n",
      "\n"
     ]
    }
   ],
   "source": [
    "# Cleaning health1 Variable \n",
    "# GeneralHealth Question : Would you say that in general your health is Excelent, Very good, Good, Fair, or Poor?\n",
    "\n",
    "print(data['health1'].value_counts())\n",
    "print()\n",
    "missing = data['health1'].isnull().sum()\n",
    "print(\"Missing values Before Cleaning: \", missing, '\\n')\n",
    "\n",
    "# Impute NaN values with 'No Response'\n",
    "# Replace the NaN values in the GeneralHealth variable with No Response since GeneralHealth is a categorical variable.\n",
    "# No Response is more helpful than NaN when we make graphs and visualizations.\n",
    "data['health1'].fillna('no response', inplace= True)\n",
    "\n",
    "#Print missing values after cleaning\n",
    "missing = data['health1'].isnull().sum()\n",
    "print(\"Missing values After Cleaning: \", missing, '\\n')"
   ]
  },
  {
   "cell_type": "code",
<<<<<<< HEAD
   "execution_count": 578,
=======
   "execution_count": 1109,
>>>>>>> e723637653273cd0c98ebefe84720f2b7589f8db
   "metadata": {},
   "outputs": [
    {
     "name": "stdout",
     "output_type": "stream",
     "text": [
      "[nan 'much harder' 'about the same' 'somewhat harder' 'much easier'\n",
      " 'somewhat easier']\n",
      "Missing values Before Cleaning:  62465 \n",
      "\n",
      "Number of Instances After Cleaning:  \n",
      " hlthacc2\n",
      "no response        62465\n",
      "about the same       354\n",
      "somewhat harder      224\n",
      "somewhat easier      202\n",
      "much harder          116\n",
      "much easier           78\n",
      "Name: count, dtype: int64 \n",
      "\n",
      "Unique 'Type' values after cleaning: ['no response' 'much harder' 'about the same' 'somewhat harder'\n",
      " 'much easier' 'somewhat easier'] \n",
      "\n",
      "Missing values After Cleaning:  0 \n",
      "\n"
     ]
    }
   ],
   "source": [
    "# Cleaning the Variale hlthacc2\n",
    "# From the GSS codebook, this variable stands for \"Old vs. Young Access to Healthcare\"\n",
    "# The question asked was \"In the United States, do you think it is easier or harder to get access to health care... for old people than for young people\"                   \n",
    "\n",
    "# Check for the Number of Missing Values\n",
    "print(data['hlthacc2'].unique())\n",
    "missing = data['hlthacc2'].isnull().sum()\n",
    "print(\"Missing values Before Cleaning: \", missing, '\\n')\n",
    "\n",
    "# Impute NaN values with 'No Response'\n",
    "# Replace the NaN values in the variable with No Response since this is a categorical variable.\n",
    "# No Response is more helpful than NaN when we make graphs and visualizations.\n",
    "data['hlthacc2'].fillna('no response', inplace= True)\n",
    "\n",
    "# Count the number of instances of each unique value in the column \n",
    "print(\"Number of Instances After Cleaning: \", '\\n', data['hlthacc2'].value_counts(), '\\n')\n",
    "\n",
    "# Check for Unique Types After Cleaning\n",
    "unique_types_cleaned = data['hlthacc2'].unique()\n",
    "print(\"Unique 'Type' values after cleaning:\", unique_types_cleaned, '\\n')\n",
    "\n",
    "#Print missing values after cleaning\n",
    "missing = data['hlthacc2'].isnull().sum()\n",
    "print(\"Missing values After Cleaning: \", missing, '\\n')"
   ]
  },
  {
   "cell_type": "code",
<<<<<<< HEAD
   "execution_count": 579,
=======
   "execution_count": 1110,
>>>>>>> e723637653273cd0c98ebefe84720f2b7589f8db
   "metadata": {},
   "outputs": [
    {
     "name": "stdout",
     "output_type": "stream",
     "text": [
      "[nan 'somewhat harder' 'about the same' 'much harder' 'somewhat easier'\n",
      " 'much easier']\n",
      "Missing values Before Cleaning:  62492 \n",
      "\n",
      "Number of Instances After Cleaning:  \n",
      " hlthacc3\n",
      "no response        62492\n",
      "about the same       653\n",
      "somewhat harder      139\n",
      "somewhat easier       75\n",
      "much easier           41\n",
      "much harder           39\n",
      "Name: count, dtype: int64 \n",
      "\n",
      "Unique 'Type' values after cleaning: ['no response' 'somewhat harder' 'about the same' 'much harder'\n",
      " 'somewhat easier' 'much easier'] \n",
      "\n",
      "Missing values After Cleaning:  0 \n",
      "\n"
     ]
    }
   ],
   "source": [
    "# Cleaning the Variale hlthacc3\n",
    "# From the GSS codebook, this variable stands for \"Men vs Women Access to Healthcare\"\n",
    "# The question asked was \"In the United States, do you think it is easier or harder to get access to health care... for women than for men\"                \n",
    "\n",
    "# Check for the Number of Missing Values\n",
    "print(data['hlthacc3'].unique())\n",
    "missing = data['hlthacc3'].isnull().sum()\n",
    "print(\"Missing values Before Cleaning: \", missing, '\\n')\n",
    "\n",
    "# Impute NaN values with 'No Response'\n",
    "# Replace the NaN values in the variable with No Response since this is a categorical variable.\n",
    "# No Response is more helpful than NaN when we make graphs and visualizations.\n",
    "data['hlthacc3'].fillna('no response', inplace= True)\n",
    "\n",
    "# Count the number of instances of each unique value in the column \n",
    "print(\"Number of Instances After Cleaning: \", '\\n', data['hlthacc3'].value_counts(), '\\n')\n",
    "\n",
    "# Check for Unique Types After Cleaning\n",
    "unique_types_cleaned = data['hlthacc3'].unique()\n",
    "print(\"Unique 'Type' values after cleaning:\", unique_types_cleaned, '\\n')\n",
    "\n",
    "#Print missing values after cleaning\n",
    "missing = data['hlthacc3'].isnull().sum()\n",
    "print(\"Missing values After Cleaning: \", missing, '\\n')"
   ]
  },
  {
   "cell_type": "code",
<<<<<<< HEAD
   "execution_count": 580,
=======
   "execution_count": 1111,
>>>>>>> e723637653273cd0c98ebefe84720f2b7589f8db
   "metadata": {},
   "outputs": [
    {
     "name": "stdout",
     "output_type": "stream",
     "text": [
      "[nan 'much easier' 'about the same' 'much harder' 'somewhat easier'\n",
      " 'somewhat harder']\n",
      "Missing values Before Cleaning:  62514 \n",
      "\n",
      "Number of Instances After Cleaning:  \n",
      " hlthacc4\n",
      "no response        62514\n",
      "much easier          278\n",
      "somewhat easier      226\n",
      "about the same       210\n",
      "somewhat harder      112\n",
      "much harder           99\n",
      "Name: count, dtype: int64 \n",
      "\n",
      "Unique 'Type' values after cleaning: ['no response' 'much easier' 'about the same' 'much harder'\n",
      " 'somewhat easier' 'somewhat harder'] \n",
      "\n",
      "Missing values After Cleaning:  0 \n",
      "\n"
     ]
    }
   ],
   "source": [
    "# Cleaning the Variale hlthacc4\n",
    "# From the GSS codebook, this variable stands for \"Citizen vs Noncitizen Access to Healthcare\"\n",
    "# The question asked was \"In the United States, do you think it is easier or harder to get access to health care... for citizens of the United States than for people who do not hold U.S.citizenship?\"\n",
    "\n",
    "# Check for the Number of Missing Values\n",
    "print(data['hlthacc4'].unique())\n",
    "missing = data['hlthacc4'].isnull().sum()\n",
    "print(\"Missing values Before Cleaning: \", missing, '\\n')\n",
    "\n",
    "# Impute NaN values with 'No Response'\n",
    "# Replace the NaN values in the variable with No Response since this is a categorical variable.\n",
    "# No Response is more helpful than NaN when we make graphs and visualizations.\n",
    "data['hlthacc4'].fillna('no response', inplace= True)\n",
    "\n",
    "# Count the number of instances of each unique value in the column \n",
    "print(\"Number of Instances After Cleaning: \", '\\n', data['hlthacc4'].value_counts(), '\\n')\n",
    "\n",
    "# Check for Unique Types After Cleaning\n",
    "unique_types_cleaned = data['hlthacc4'].unique()\n",
    "print(\"Unique 'Type' values after cleaning:\", unique_types_cleaned, '\\n')\n",
    "\n",
    "#Print missing values after cleaning\n",
    "missing = data['hlthacc4'].isnull().sum()\n",
    "print(\"Missing values After Cleaning: \", missing, '\\n')"
   ]
  },
  {
   "cell_type": "code",
<<<<<<< HEAD
   "execution_count": 581,
=======
   "execution_count": 1112,
>>>>>>> e723637653273cd0c98ebefe84720f2b7589f8db
   "metadata": {},
   "outputs": [
    {
     "name": "stdout",
     "output_type": "stream",
     "text": [
      "[nan 'much easier' 'somewhat easier' 'about the same' 'somewhat harder'\n",
      " 'much harder']\n",
      "Missing values Before Cleaning:  62444 \n",
      "\n",
      "Number of Instances After Cleaning:  \n",
      " hlthacc1\n",
      "no response        62444\n",
      "much easier          618\n",
      "somewhat easier      193\n",
      "about the same       127\n",
      "somewhat harder       34\n",
      "much harder           23\n",
      "Name: count, dtype: int64 \n",
      "\n",
      "Unique 'Type' values after cleaning: ['no response' 'much easier' 'somewhat easier' 'about the same'\n",
      " 'somewhat harder' 'much harder'] \n",
      "\n",
      "Missing values After Cleaning:  0 \n",
      "\n"
     ]
    }
   ],
   "source": [
    "# Cleaning the Variale hlthacc1\n",
    "# From the GSS codebook, this variable stands for \"Rich vs Poor Access to Healthcare\"\n",
    "# The question asked was \"In the United States, do you think it is easier or harder to get access to health care... for rich people than for poor people?\"\n",
    "\n",
    "# Check for the Number of Missing Values\n",
    "print(data['hlthacc1'].unique())\n",
    "missing = data['hlthacc1'].isnull().sum()\n",
    "print(\"Missing values Before Cleaning: \", missing, '\\n')\n",
    "\n",
    "# Impute NaN values with 'No Response'\n",
    "# Replace the NaN values in the variable with No Response since this is a categorical variable.\n",
    "# No Response is more helpful than NaN when we make graphs and visualizations.\n",
    "data['hlthacc1'].fillna('no response', inplace= True)\n",
    "\n",
    "# Count the number of instances of each unique value in the column \n",
    "print(\"Number of Instances After Cleaning: \", '\\n', data['hlthacc1'].value_counts(), '\\n')\n",
    "\n",
    "# Check for Unique Types After Cleaning\n",
    "unique_types_cleaned = data['hlthacc1'].unique()\n",
    "print(\"Unique 'Type' values after cleaning:\", unique_types_cleaned, '\\n')\n",
    "\n",
    "#Print missing values after cleaning\n",
    "missing = data['hlthacc1'].isnull().sum()\n",
    "print(\"Missing values After Cleaning: \", missing, '\\n')\n"
   ]
  },
  {
   "cell_type": "code",
<<<<<<< HEAD
   "execution_count": 582,
=======
   "execution_count": 1113,
>>>>>>> e723637653273cd0c98ebefe84720f2b7589f8db
   "metadata": {},
   "outputs": [
    {
     "name": "stdout",
     "output_type": "stream",
     "text": [
      "[nan 'no' 'yes']\n",
      "Missing values Before Cleaning:  61357 \n",
      "\n",
      "Number of Instances After Cleaning:  \n",
      " hrdshp6\n",
      "no response    61357\n",
      "no              1748\n",
      "yes              334\n",
      "Name: count, dtype: int64 \n",
      "\n",
      "Unique 'Type' values after cleaning: ['no response' 'no' 'yes'] \n",
      "\n",
      "Missing values After Cleaning:  0 \n",
      "\n"
     ]
    }
   ],
   "source": [
    "# Cleaning the Variale hrdshp6\n",
    "# From the GSS codebook, this variable stands for \"lacking health insurance coverage\"\n",
    "# The question asked was \"Now I am going to ask about specific hardships. \n",
    "    # Did any of the following occur to you since (CURRENT MONTH), (1990/2003)? \n",
    "    # Lacked health insurance coverage (e.g. Medicare, Medicaid, Blue Cross, an HMO, etc.)?\"\n",
    "\n",
    "# Check for the Number of Missing Values\n",
    "print(data['hrdshp6'].unique())\n",
    "missing = data['hrdshp6'].isnull().sum()\n",
    "print(\"Missing values Before Cleaning: \", missing, '\\n')\n",
    "\n",
    "# Impute NaN values with 'No Response'\n",
    "# Replace the NaN values in the variable with No Response since this is a categorical variable.\n",
    "# No Response is more helpful than NaN when we make graphs and visualizations.\n",
    "data['hrdshp6'].fillna('no response', inplace= True)\n",
    "\n",
    "# Count the number of instances of each unique value in the column \n",
    "print(\"Number of Instances After Cleaning: \", '\\n', data['hrdshp6'].value_counts(), '\\n')\n",
    "\n",
    "# Check for Unique Types After Cleaning\n",
    "unique_types_cleaned = data['hrdshp6'].unique()\n",
    "print(\"Unique 'Type' values after cleaning:\", unique_types_cleaned, '\\n')\n",
    "\n",
    "#Print missing values after cleaning\n",
    "missing = data['hrdshp6'].isnull().sum()\n",
    "print(\"Missing values After Cleaning: \", missing, '\\n')\n"
   ]
  },
  {
   "cell_type": "code",
<<<<<<< HEAD
   "execution_count": 583,
=======
   "execution_count": 1114,
>>>>>>> e723637653273cd0c98ebefe84720f2b7589f8db
   "metadata": {},
   "outputs": [
    {
     "name": "stdout",
     "output_type": "stream",
     "text": [
      "[nan 'no' 'yes']\n",
      "Missing values Before Cleaning:  62495 \n",
      "\n",
      "Number of Instances After Cleaning:  \n",
      " emphlth\n",
      "no response    62495\n",
      "yes              602\n",
      "no               342\n",
      "Name: count, dtype: int64 \n",
      "\n",
      "Unique 'Type' values after cleaning: ['no response' 'no' 'yes'] \n",
      "\n",
      "Missing values After Cleaning:  0 \n",
      "\n"
     ]
    }
   ],
   "source": [
    "# Cleaning the Variale emphlth\n",
    "# From the GSS codebook, this variable stands for \"do you receive health insurance from employer\"\n",
    "# The question asked was \"Do you receive health insurance from your employer?\"\n",
    "\n",
    "# Check for the Number of Missing Values\n",
    "print(data['emphlth'].unique())\n",
    "missing = data['emphlth'].isnull().sum()\n",
    "print(\"Missing values Before Cleaning: \", missing, '\\n')\n",
    "\n",
    "# Impute NaN values with 'No Response'\n",
    "# Replace the NaN values in the variable with No Response since this is a categorical variable.\n",
    "# No Response is more helpful than NaN when we make graphs and visualizations.\n",
    "data['emphlth'].fillna('no response', inplace= True)\n",
    "\n",
    "# Count the number of instances of each unique value in the column \n",
    "print(\"Number of Instances After Cleaning: \", '\\n', data['emphlth'].value_counts(), '\\n')\n",
    "\n",
    "# Check for Unique Types After Cleaning\n",
    "unique_types_cleaned = data['emphlth'].unique()\n",
    "print(\"Unique 'Type' values after cleaning:\", unique_types_cleaned, '\\n')\n",
    "\n",
    "#Print missing values after cleaning\n",
    "missing = data['emphlth'].isnull().sum()\n",
    "print(\"Missing values After Cleaning: \", missing, '\\n')\n"
   ]
  },
  {
   "cell_type": "code",
<<<<<<< HEAD
   "execution_count": 584,
=======
   "execution_count": 1115,
>>>>>>> e723637653273cd0c98ebefe84720f2b7589f8db
   "metadata": {},
   "outputs": [
    {
     "name": "stdout",
     "output_type": "stream",
     "text": [
      "[nan\n",
      " 'individual plan from private insurer not related to current or past employment'\n",
      " 'my employer' 'medicaid' 'medicare' 'employer of my spouse/partner'\n",
      " 'other' 'employer of someone else in my family']\n",
      "Missing values Before Cleaning:  63358 \n",
      "\n",
      "Number of Instances After Cleaning:  \n",
      " hlthtype\n",
      "no response                                                                       63358\n",
      "my employer                                                                          40\n",
      "medicare                                                                             14\n",
      "employer of my spouse/partner                                                         9\n",
      "individual plan from private insurer not related to current or past employment        6\n",
      "medicaid                                                                              6\n",
      "other                                                                                 4\n",
      "employer of someone else in my family                                                 2\n",
      "Name: count, dtype: int64 \n",
      "\n",
      "Unique 'Type' values after cleaning: ['no response'\n",
      " 'individual plan from private insurer not related to current or past employment'\n",
      " 'my employer' 'medicaid' 'medicare' 'employer of my spouse/partner'\n",
      " 'other' 'employer of someone else in my family'] \n",
      "\n",
      "Missing values After Cleaning:  0 \n",
      "\n"
     ]
    }
   ],
   "source": [
    "# Cleaning the Variale InsuranceSource\n",
    "# From the GSS codebook, this variable stands for \"source of health insurance\"\n",
    "# The question asked was \"What is the source of your health insurance?\"\n",
    "\n",
    "# Check for the Number of Missing Values\n",
    "print(data['hlthtype'].unique())\n",
    "missing = data['hlthtype'].isnull().sum()\n",
    "print(\"Missing values Before Cleaning: \", missing, '\\n')\n",
    "\n",
    "# Impute NaN values with 'No Response'\n",
    "# Replace the NaN values in the variable with No Response since this is a categorical variable.\n",
    "# No Response is more helpful than NaN when we make graphs and visualizations.\n",
    "data['hlthtype'].fillna('no response', inplace= True)\n",
    "\n",
    "# Count the number of instances of each unique value in the column \n",
    "print(\"Number of Instances After Cleaning: \", '\\n', data['hlthtype'].value_counts(), '\\n')\n",
    "\n",
    "# Check for Unique Types After Cleaning\n",
    "unique_types_cleaned = data['hlthtype'].unique()\n",
    "print(\"Unique 'Type' values after cleaning:\", unique_types_cleaned, '\\n')\n",
    "\n",
    "#Print missing values after cleaning\n",
    "missing = data['hlthtype'].isnull().sum()\n",
    "print(\"Missing values After Cleaning: \", missing, '\\n')\n"
   ]
  },
  {
   "cell_type": "code",
<<<<<<< HEAD
   "execution_count": 585,
=======
   "execution_count": 1116,
>>>>>>> e723637653273cd0c98ebefe84720f2b7589f8db
   "metadata": {},
   "outputs": [
    {
     "name": "stdout",
     "output_type": "stream",
     "text": [
      "[nan 'yes' 'no']\n",
      "Missing values Before Cleaning:  63336 \n",
      "\n",
      "Number of Instances After Cleaning:  \n",
      " hlthcovr\n",
      "no response    63336\n",
      "yes               79\n",
      "no                24\n",
      "Name: count, dtype: int64 \n",
      "\n",
      "Unique 'Type' values after cleaning: ['no response' 'yes' 'no'] \n",
      "\n",
      "Missing values After Cleaning:  0 \n",
      "\n"
     ]
    }
   ],
   "source": [
    "# Cleaning the Variale hlthcovr\n",
    "# From the GSS codebook, this variable stands for \"has health insurance coverage\"\n",
    "# The qustion asked was \"Do you currently have health insurance coverage?\"\n",
    "\n",
    "# Check for the Number of Missing Values\n",
    "print(data['hlthcovr'].unique())\n",
    "missing = data['hlthcovr'].isnull().sum()\n",
    "print(\"Missing values Before Cleaning: \", missing, '\\n')\n",
    "\n",
    "# Impute NaN values with 'No Response'\n",
    "# Replace the NaN values in the variable with No Response since this is a categorical variable.\n",
    "# No Response is more helpful than NaN when we make graphs and visualizations.\n",
    "data['hlthcovr'].fillna('no response', inplace= True)\n",
    "\n",
    "# Count the number of instances of each unique value in the column \n",
    "print(\"Number of Instances After Cleaning: \", '\\n', data['hlthcovr'].value_counts(), '\\n')\n",
    "\n",
    "# Check for Unique Types After Cleaning\n",
    "unique_types_cleaned = data['hlthcovr'].unique()\n",
    "print(\"Unique 'Type' values after cleaning:\", unique_types_cleaned, '\\n')\n",
    "\n",
    "#Print missing values after cleaning\n",
    "missing = data['hlthcovr'].isnull().sum()\n",
    "print(\"Missing values After Cleaning: \", missing, '\\n')\n",
    "\n"
   ]
  },
  {
   "cell_type": "code",
<<<<<<< HEAD
   "execution_count": 586,
=======
   "execution_count": 1117,
>>>>>>> e723637653273cd0c98ebefe84720f2b7589f8db
   "metadata": {},
   "outputs": [
    {
     "name": "stdout",
     "output_type": "stream",
     "text": [
      "[nan '6.0' '5.0' '3.0' '7.0' '1.0' '4.0' '2.0']\n",
      "Missing values Before Cleaning:  62323 \n",
      "\n",
      "Number of Instances After Cleaning:  \n",
      " hlthall\n",
      "no response             62323\n",
      "very important            638\n",
      "important                 138\n",
      "neutral                   104\n",
      "somewhat important         83\n",
      "not at all important       74\n",
      "somewhat unimportant       45\n",
      "slightly unimportant       34\n",
      "Name: count, dtype: int64 \n",
      "\n",
      "Unique 'Type' values after cleaning: ['no response' 'important' 'somewhat important' 'somewhat unimportant'\n",
      " 'very important' 'not at all important' 'neutral' 'slightly unimportant'] \n",
      "\n",
      "Missing values After Cleaning:  0 \n",
      "\n"
     ]
    }
   ],
   "source": [
    "# Cleaning the Variale UniversalHealthCare\n",
    "# From the GSS codebook, this variable stands for \"healthcare provided for everyone\"\n",
    "# The qustion asked was \"On a scale of 1 to 7, where 1 is not at all important and 7 is very important, \n",
    "        # how important is it: That health care be provided for everyone\"\n",
    "\n",
    "# Check for the Number of Missing Values\n",
    "print(data['hlthall'].unique())\n",
    "missing = data['hlthall'].isnull().sum()\n",
    "print(\"Missing values Before Cleaning: \", missing, '\\n')\n",
    "\n",
    "# Rather than having numbers as the data, we replaced the numbers with their actual meaning in order to make the data \n",
    "# more clear and understandable without needing to access the GSS data to see what the numbers represent \n",
    "value_mapping = {\n",
    "    '1.0': 'not at all important',\n",
    "    '2.0': 'slightly unimportant',\n",
    "    '3.0': 'somewhat unimportant',\n",
    "    '4.0': 'neutral',\n",
    "    '5.0': 'somewhat important',\n",
    "    '6.0': 'important',\n",
    "    '7.0': 'very important',\n",
    "}\n",
    "data['hlthall'].replace(value_mapping, inplace=True)\n",
    "\n",
    "# After replacing the numeric scales with more meaningful values, we decided to replace NaN with 'no response'\n",
    "data['hlthall'].fillna('no response', inplace= True)\n",
    "\n",
    "# Count the number of instances of each unique value in the column \n",
    "print(\"Number of Instances After Cleaning: \", '\\n', data['hlthall'].value_counts(), '\\n')\n",
    "\n",
    "# Check for Unique Types After Cleaning\n",
    "unique_types_cleaned = data['hlthall'].unique()\n",
    "print(\"Unique 'Type' values after cleaning:\", unique_types_cleaned, '\\n')\n",
    "\n",
    "#Print missing values after cleaning\n",
    "missing = data['hlthall'].isnull().sum()\n",
    "print(\"Missing values After Cleaning: \", missing, '\\n')\n"
   ]
  },
  {
   "cell_type": "code",
<<<<<<< HEAD
   "execution_count": 587,
=======
   "execution_count": 1118,
>>>>>>> e723637653273cd0c98ebefe84720f2b7589f8db
   "metadata": {},
   "outputs": [
    {
     "name": "stdout",
     "output_type": "stream",
     "text": [
      "[nan '5.0' '3.0' '1.0' '4.0' '2.0']\n",
      "Missing values Before Cleaning:  29597 \n",
      "\n",
      "Number of Instances After Cleaning:  \n",
      " helpsick\n",
      "no response                       29597\n",
      "agree with both                   10670\n",
      "gov should help                   10437\n",
      "lean towards gov should help       6812\n",
      "lean toward people help selves     3254\n",
      "people help selves                 2669\n",
      "Name: count, dtype: int64 \n",
      "\n",
      "Unique 'Type' values after cleaning: ['no response' 'people help selves' 'agree with both' 'gov should help'\n",
      " 'lean toward people help selves' 'lean towards gov should help'] \n",
      "\n",
      "Missing values After Cleaning:  0 \n",
      "\n"
     ]
    }
   ],
   "source": [
    "# Cleaning the Variale GovPayHealthBills ('helpsick' before rename)\n",
    "# From the GSS codebook, this variable stands for \"should government help pay for medical care\"\n",
    "# The qustion asked was \"In general, some people think that it is the responsibility of the government in Washington\n",
    "# to see to it that people have help in paying for doctors and hospital bills. Others think that these matters are not\n",
    "# the responsibility of the federal government and that people shoul take care of these things themselves. \n",
    "# Where would you place yourself on this scale?\"\n",
    "# There is data collected from this question on 25 of the 34 available years so their is a large amount of data available \n",
    "# regarding this question \n",
    "\n",
    "# Check for the Number of Missing Values\n",
    "print(data['helpsick'].unique())\n",
    "missing = data['helpsick'].isnull().sum()\n",
    "print(\"Missing values Before Cleaning: \", missing, '\\n')\n",
    "\n",
    "# To clean this variable, we replaced the nan with \"No response\"\n",
    "# The data for this question was \"GOV SHOULD HELP\", \"AGREE WITH BOTH\", \"PEOPLE HELP SELVES\" and people answered\n",
    "# on a scale of 1 to 5 where 1 is strongly agree that gov should help, and 5 is strongly agree with people help selves \n",
    "# Replace the NaN values in the variable with No Response since this is a categorical variable.\n",
    "# No Response is more helpful than NaN when we make graphs and visualizations.\n",
    "data['helpsick'].fillna('no response', inplace= True)\n",
    "\n",
    "# Rather than having numbers as the data, we replaced the numbers with their actual meaning in order to make the data \n",
    "# more clear and understandable without needing to access the GSS data to see what the numbers represent \n",
    "value_mapping = {\n",
    "    '1.0': 'gov should help',\n",
    "    '2.0': 'lean towards gov should help',\n",
    "    '3.0': 'agree with both',\n",
    "    '4.0': 'lean toward people help selves',\n",
    "    '5.0': 'people help selves',\n",
    "}\n",
    "data['helpsick'].replace(value_mapping, inplace=True)\n",
    "\n",
    "# Count the number of instances of each unique value in the column \n",
    "print(\"Number of Instances After Cleaning: \", '\\n', data['helpsick'].value_counts(), '\\n')\n",
    "\n",
    "# Check for Unique Types After Cleaning\n",
    "unique_types_cleaned = data['helpsick'].unique()\n",
    "print(\"Unique 'Type' values after cleaning:\", unique_types_cleaned, '\\n')\n",
    "\n",
    "#Print missing values after cleaning\n",
    "missing = data['helpsick'].isnull().sum()\n",
    "print(\"Missing values After Cleaning: \", missing, '\\n')\n"
   ]
  },
  {
   "attachments": {},
   "cell_type": "markdown",
   "metadata": {},
   "source": [
    "### Changing Variable Names\n",
    "We are editing the names of the variables in the dataframe in order to make it more clear what each of the variables is representing\n"
   ]
  },
  {
   "cell_type": "code",
<<<<<<< HEAD
   "execution_count": 588,
=======
   "execution_count": 1119,
>>>>>>> e723637653273cd0c98ebefe84720f2b7589f8db
   "metadata": {},
   "outputs": [
    {
     "name": "stdout",
     "output_type": "stream",
     "text": [
      "['wrkstat', 'income', 'satfin', 'finalter', 'health', 'helpsick', 'hlthinsr', 'doc13', 'doc14', 'health1', 'hlthplan', 'diffcare', 'insrlmts', 'insrchng', 'emphlth', 'hlthcare', 'hlthall', 'hlthcovr', 'hlthtype', 'hrdshp6', 'hlthacc1', 'hlthacc4', 'hlthacc3', 'hlthacc2', 'prvdhlth']\n"
     ]
    }
   ],
   "source": [
    "print(data.columns.tolist())\n",
    "## Updated Names of all of the variables"
   ]
  },
  {
   "cell_type": "code",
<<<<<<< HEAD
   "execution_count": 589,
=======
   "execution_count": 1120,
>>>>>>> e723637653273cd0c98ebefe84720f2b7589f8db
   "metadata": {},
   "outputs": [
    {
     "name": "stdout",
     "output_type": "stream",
     "text": [
      "['wrkstat', 'income', 'satfin', 'finalter', 'health', 'helpsick', 'hlthinsr', 'doc13', 'doc14', 'health1', 'hlthplan', 'diffcare', 'insrlmts', 'insrchng', 'emphlth', 'hlthcare', 'hlthall', 'hlthcovr', 'hlthtype', 'hrdshp6', 'hlthacc1', 'hlthacc4', 'hlthacc3', 'hlthacc2', 'prvdhlth']\n"
     ]
    }
   ],
   "source": [
    "print(data.columns.tolist())\n",
    "\n",
    "data = data.rename(columns={'wrkstat': 'WorkStatus', \n",
    "                            'income':'Income' , \n",
    "                            'satfin': 'FinancialSatisfaction', \n",
    "                            'finalter': 'FinancialSitChange', \n",
    "                            'health':'HealthCondition',  \n",
    "                            'helpsick':'GovPayHealthBills', \n",
    "                            'hlthinsr':'HealthInsurance98',\n",
    "                            'doc13': 'DeniedTreatmentWorry', \n",
    "                            'doc14':'DocCostOverCare', \n",
    "                            'health1': 'GeneralHealth', \n",
    "                            'hlthplan':'HealthInsurance02', \n",
    "                            'diffcare':'DifficultCare', \n",
    "                            'insrlmts': 'InsuranceLimits', \n",
    "                            'insrchng':'SwitchInsurancePlans', \n",
    "                            'emphlth':'EmployerCoverage', \n",
    "                            'hlthcare':'GovResponsibleForSick', \n",
    "                            'hlthall':'UniversalHealthCare', \n",
    "                            'hlthcovr':'HealthInsurance08', \n",
    "                            'hlthtype':'InsuranceSource', \n",
    "                            'hrdshp6':'LackedHealthInsurance', \n",
    "                            'hlthacc1':'RichVsPoorAccess', \n",
    "                            'hlthacc4':'CitVsNCitAccess', \n",
    "                            'hlthacc3':'MenVsWomenAccess', \n",
    "                            'hlthacc2':'OldVsYoungAccess', \n",
    "                            'prvdhlth':'WhoShouldProvideHealthCare' }) "
   ]
  },
  {
   "cell_type": "code",
<<<<<<< HEAD
   "execution_count": 590,
=======
   "execution_count": 1121,
>>>>>>> e723637653273cd0c98ebefe84720f2b7589f8db
   "metadata": {},
   "outputs": [
    {
     "name": "stdout",
     "output_type": "stream",
     "text": [
      "(63439, 25) \n",
      "\n",
      "['WorkStatus', 'Income', 'FinancialSatisfaction', 'FinancialSitChange', 'HealthCondition', 'GovPayHealthBills', 'HealthInsurance98', 'DeniedTreatmentWorry', 'DocCostOverCare', 'GeneralHealth', 'HealthInsurance02', 'DifficultCare', 'InsuranceLimits', 'SwitchInsurancePlans', 'EmployerCoverage', 'GovResponsibleForSick', 'UniversalHealthCare', 'HealthInsurance08', 'InsuranceSource', 'LackedHealthInsurance', 'RichVsPoorAccess', 'CitVsNCitAccess', 'MenVsWomenAccess', 'OldVsYoungAccess', 'WhoShouldProvideHealthCare']\n"
     ]
    }
   ],
   "source": [
    "# .shape prints out the number of rows and columns \n",
    "print(data.shape, '\\n')\n",
    "\n",
    "# .columns prints out the names of the columns \n",
    "# There are 25 columns as specificed in the data.shape output\n",
    "print(data.columns.tolist())"
   ]
  },
  {
   "cell_type": "code",
<<<<<<< HEAD
   "execution_count": 591,
=======
   "execution_count": 1122,
>>>>>>> e723637653273cd0c98ebefe84720f2b7589f8db
   "metadata": {},
   "outputs": [],
   "source": [
    "data.to_csv('cleanedProjectData.csv',index=False)"
   ]
  },
  {
   "attachments": {},
   "cell_type": "markdown",
   "metadata": {},
   "source": [
    "### Data Visualizations and Analysis \n",
    "\n",
    "After cleaning and changing the variable names, graphs that visualize variables and their relationships can be created. \n"
   ]
  },
  {
   "cell_type": "code",
<<<<<<< HEAD
   "execution_count": 595,
=======
   "execution_count": 1123,
>>>>>>> e723637653273cd0c98ebefe84720f2b7589f8db
   "metadata": {},
   "outputs": [],
   "source": [
    "df = pd.read_csv('./cleanedProjectData.csv')"
   ]
  },
  {
   "cell_type": "code",
<<<<<<< HEAD
   "execution_count": 593,
=======
   "execution_count": 1124,
>>>>>>> e723637653273cd0c98ebefe84720f2b7589f8db
   "metadata": {},
   "outputs": [
    {
     "data": {
      "text/html": [
       "<div>\n",
       "<style scoped>\n",
       "    .dataframe tbody tr th:only-of-type {\n",
       "        vertical-align: middle;\n",
       "    }\n",
       "\n",
       "    .dataframe tbody tr th {\n",
       "        vertical-align: top;\n",
       "    }\n",
       "\n",
       "    .dataframe thead th {\n",
       "        text-align: right;\n",
       "    }\n",
       "</style>\n",
       "<table border=\"1\" class=\"dataframe\">\n",
       "  <thead>\n",
       "    <tr style=\"text-align: right;\">\n",
       "      <th></th>\n",
       "      <th>WorkStatus</th>\n",
       "      <th>Income</th>\n",
       "      <th>FinancialSatisfaction</th>\n",
       "      <th>FinancialSitChange</th>\n",
       "      <th>HealthCondition</th>\n",
       "      <th>GovPayHealthBills</th>\n",
       "      <th>HealthInsurance98</th>\n",
       "      <th>DeniedTreatmentWorry</th>\n",
       "      <th>DocCostOverCare</th>\n",
       "      <th>GeneralHealth</th>\n",
       "      <th>...</th>\n",
       "      <th>GovResponsibleForSick</th>\n",
       "      <th>UniversalHealthCare</th>\n",
       "      <th>HealthInsurance08</th>\n",
       "      <th>InsuranceSource</th>\n",
       "      <th>LackedHealthInsurance</th>\n",
       "      <th>RichVsPoorAccess</th>\n",
       "      <th>CitVsNCitAccess</th>\n",
       "      <th>MenVsWomenAccess</th>\n",
       "      <th>OldVsYoungAccess</th>\n",
       "      <th>WhoShouldProvideHealthCare</th>\n",
       "    </tr>\n",
       "  </thead>\n",
       "  <tbody>\n",
       "    <tr>\n",
       "      <th>0</th>\n",
       "      <td>working full time</td>\n",
       "      <td>$10,000 to $14,999</td>\n",
       "      <td>pretty well satisfied</td>\n",
       "      <td>stayed same</td>\n",
       "      <td>fair</td>\n",
       "      <td>no response</td>\n",
       "      <td>no response</td>\n",
       "      <td>no response</td>\n",
       "      <td>NaN</td>\n",
       "      <td>no response</td>\n",
       "      <td>...</td>\n",
       "      <td>no response</td>\n",
       "      <td>no response</td>\n",
       "      <td>no response</td>\n",
       "      <td>no response</td>\n",
       "      <td>no response</td>\n",
       "      <td>no response</td>\n",
       "      <td>no response</td>\n",
       "      <td>no response</td>\n",
       "      <td>no response</td>\n",
       "      <td>no response</td>\n",
       "    </tr>\n",
       "    <tr>\n",
       "      <th>1</th>\n",
       "      <td>keeping house</td>\n",
       "      <td>$7,000 to $7,999</td>\n",
       "      <td>more or less satisfied</td>\n",
       "      <td>stayed same</td>\n",
       "      <td>good</td>\n",
       "      <td>no response</td>\n",
       "      <td>no response</td>\n",
       "      <td>no response</td>\n",
       "      <td>NaN</td>\n",
       "      <td>no response</td>\n",
       "      <td>...</td>\n",
       "      <td>no response</td>\n",
       "      <td>no response</td>\n",
       "      <td>no response</td>\n",
       "      <td>no response</td>\n",
       "      <td>no response</td>\n",
       "      <td>no response</td>\n",
       "      <td>no response</td>\n",
       "      <td>no response</td>\n",
       "      <td>no response</td>\n",
       "      <td>no response</td>\n",
       "    </tr>\n",
       "    <tr>\n",
       "      <th>2</th>\n",
       "      <td>working full time</td>\n",
       "      <td>$10,000 to $14,999</td>\n",
       "      <td>more or less satisfied</td>\n",
       "      <td>stayed same</td>\n",
       "      <td>excellent</td>\n",
       "      <td>no response</td>\n",
       "      <td>no response</td>\n",
       "      <td>no response</td>\n",
       "      <td>NaN</td>\n",
       "      <td>no response</td>\n",
       "      <td>...</td>\n",
       "      <td>no response</td>\n",
       "      <td>no response</td>\n",
       "      <td>no response</td>\n",
       "      <td>no response</td>\n",
       "      <td>no response</td>\n",
       "      <td>no response</td>\n",
       "      <td>no response</td>\n",
       "      <td>no response</td>\n",
       "      <td>no response</td>\n",
       "      <td>no response</td>\n",
       "    </tr>\n",
       "    <tr>\n",
       "      <th>3</th>\n",
       "      <td>working full time</td>\n",
       "      <td>$10,000 to $14,999</td>\n",
       "      <td>not satisfied at all</td>\n",
       "      <td>stayed same</td>\n",
       "      <td>excellent</td>\n",
       "      <td>no response</td>\n",
       "      <td>no response</td>\n",
       "      <td>no response</td>\n",
       "      <td>NaN</td>\n",
       "      <td>no response</td>\n",
       "      <td>...</td>\n",
       "      <td>no response</td>\n",
       "      <td>no response</td>\n",
       "      <td>no response</td>\n",
       "      <td>no response</td>\n",
       "      <td>no response</td>\n",
       "      <td>no response</td>\n",
       "      <td>no response</td>\n",
       "      <td>no response</td>\n",
       "      <td>no response</td>\n",
       "      <td>no response</td>\n",
       "    </tr>\n",
       "    <tr>\n",
       "      <th>4</th>\n",
       "      <td>keeping house</td>\n",
       "      <td>$10,000 to $14,999</td>\n",
       "      <td>pretty well satisfied</td>\n",
       "      <td>better</td>\n",
       "      <td>good</td>\n",
       "      <td>no response</td>\n",
       "      <td>no response</td>\n",
       "      <td>no response</td>\n",
       "      <td>NaN</td>\n",
       "      <td>no response</td>\n",
       "      <td>...</td>\n",
       "      <td>no response</td>\n",
       "      <td>no response</td>\n",
       "      <td>no response</td>\n",
       "      <td>no response</td>\n",
       "      <td>no response</td>\n",
       "      <td>no response</td>\n",
       "      <td>no response</td>\n",
       "      <td>no response</td>\n",
       "      <td>no response</td>\n",
       "      <td>no response</td>\n",
       "    </tr>\n",
       "  </tbody>\n",
       "</table>\n",
       "<p>5 rows × 25 columns</p>\n",
       "</div>"
      ],
      "text/plain": [
       "          WorkStatus              Income   FinancialSatisfaction  \\\n",
       "0  working full time  $10,000 to $14,999   pretty well satisfied   \n",
       "1      keeping house    $7,000 to $7,999  more or less satisfied   \n",
       "2  working full time  $10,000 to $14,999  more or less satisfied   \n",
       "3  working full time  $10,000 to $14,999    not satisfied at all   \n",
       "4      keeping house  $10,000 to $14,999   pretty well satisfied   \n",
       "\n",
       "  FinancialSitChange HealthCondition GovPayHealthBills HealthInsurance98  \\\n",
       "0        stayed same            fair       no response       no response   \n",
       "1        stayed same            good       no response       no response   \n",
       "2        stayed same       excellent       no response       no response   \n",
       "3        stayed same       excellent       no response       no response   \n",
       "4             better            good       no response       no response   \n",
       "\n",
       "  DeniedTreatmentWorry DocCostOverCare GeneralHealth  ...  \\\n",
       "0          no response             NaN   no response  ...   \n",
       "1          no response             NaN   no response  ...   \n",
       "2          no response             NaN   no response  ...   \n",
       "3          no response             NaN   no response  ...   \n",
       "4          no response             NaN   no response  ...   \n",
       "\n",
       "  GovResponsibleForSick UniversalHealthCare HealthInsurance08 InsuranceSource  \\\n",
       "0           no response         no response       no response     no response   \n",
       "1           no response         no response       no response     no response   \n",
       "2           no response         no response       no response     no response   \n",
       "3           no response         no response       no response     no response   \n",
       "4           no response         no response       no response     no response   \n",
       "\n",
       "  LackedHealthInsurance RichVsPoorAccess CitVsNCitAccess MenVsWomenAccess  \\\n",
       "0           no response      no response     no response      no response   \n",
       "1           no response      no response     no response      no response   \n",
       "2           no response      no response     no response      no response   \n",
       "3           no response      no response     no response      no response   \n",
       "4           no response      no response     no response      no response   \n",
       "\n",
       "  OldVsYoungAccess WhoShouldProvideHealthCare  \n",
       "0      no response                no response  \n",
       "1      no response                no response  \n",
       "2      no response                no response  \n",
       "3      no response                no response  \n",
       "4      no response                no response  \n",
       "\n",
       "[5 rows x 25 columns]"
      ]
     },
<<<<<<< HEAD
     "execution_count": 593,
=======
     "execution_count": 1124,
>>>>>>> e723637653273cd0c98ebefe84720f2b7589f8db
     "metadata": {},
     "output_type": "execute_result"
    }
   ],
   "source": [
    "df.head()"
   ]
  },
  {
   "cell_type": "code",
<<<<<<< HEAD
   "execution_count": 600,
=======
   "execution_count": 1125,
   "metadata": {},
   "outputs": [],
   "source": [
    "# Make graph for income - health/health insur?\n",
    "\n",
    "# Make graph for oldvsyoung - income , richvspoor - income\n"
   ]
  },
  {
   "cell_type": "code",
   "execution_count": 1126,
>>>>>>> e723637653273cd0c98ebefe84720f2b7589f8db
   "metadata": {},
   "outputs": [
    {
     "name": "stderr",
     "output_type": "stream",
     "text": [
      "No artists with labels found to put in legend.  Note that artists whose label start with an underscore are ignored when legend() is called with no argument.\n"
     ]
    },
    {
     "name": "stdout",
     "output_type": "stream",
     "text": [
      "['excellent' 'good' 'very good' 'poor' 'fair']\n"
     ]
    },
    {
     "data": {
      "image/png": "iVBORw0KGgoAAAANSUhEUgAAAkQAAAHHCAYAAABeLEexAAAAOXRFWHRTb2Z0d2FyZQBNYXRwbG90bGliIHZlcnNpb24zLjguMCwgaHR0cHM6Ly9tYXRwbG90bGliLm9yZy81sbWrAAAACXBIWXMAAA9hAAAPYQGoP6dpAABieUlEQVR4nO3dd1jV5v8+8PuAcJgHBGQpAi4EFxUVqbtaUdE66x4oaq246/jYoTiq1m1bR60V3Kta2zoQF2oVF4oTUXHgACdbZT6/P/yRrxFUROSguV/Xda42yZPknZycw23y5EQlhBAgIiIiUjAdbRdAREREpG0MRERERKR4DERERESkeAxEREREpHgMRERERKR4DERERESkeAxEREREpHgMRERERKR4DERERESkeAxE9F44OTnB19dX22V89GbNmoVy5cpBV1cX7u7u2i6nWGncuDEaN26s7TLyRaVSISAgIN9thwwZ8n4LApCSkoL+/fvD1tYWKpUKI0aMeO/r/Bi8zXtJxQsDEb1RUFAQVCoVTp48mef0xo0bo2rVqu+8nh07dvCL5C2EhIRg7NixqFevHgIDAzFt2rQ3znPo0CF07twZpUuXhr6+PszMzODp6YnJkyfj3r17RVB18ePk5ITWrVvnOS00NBQqlQp//vlnkdZ05MgRBAQEICEhoUjX+6Jp06YhKCgIX3/9NVatWoVevXq9sq2TkxNUKpX0MjY2Rp06dbBy5coirFg51q5di/nz52u7jI9OCW0XQB+nqKgo6Oi8Xd7esWMHFi5cyFCUT/v27YOOjg7++OMP6Ovrv7H9hAkTMGXKFJQrVw6+vr4oV64cnj17hvDwcMyZMwcrVqxAdHR0EVROb3LkyBFMmjQJvr6+MDc310oN+/btQ926dTFx4sR8tXd3d8c333wDAIiNjcWyZcvQp08fpKWlYcCAAe+zVMVZu3Ytzp8/z7N2hYyBiN4LtVqt7RLeWmpqKoyNjbVdRr7dv38fhoaG+QpDGzZswJQpU9C5c2esWrUq1zzz5s3DvHnz3lep70wIgWfPnsHQ0FDbpSjG/fv34ebmlu/2pUuXRs+ePaXhnNA9b948BiL6IPCSGb0XL/chysjIwKRJk1CxYkUYGBjA0tIS9evXx+7duwE8//JcuHAhAMhOvedITU3FN998AwcHB6jVari4uGD27NkQQsjW+/TpUwwbNgxWVlYwNTXFF198gTt37uS6rh8QEACVSoWLFy+ie/fuKFmyJOrXrw8AOHv2rPRlbmBgAFtbW/Tr1w+PHj2SrStnGZcvX0bPnj1hZmaGUqVK4YcffoAQArdu3ULbtm2h0Whga2uLOXPm5GvfZWZmYsqUKShfvjzUajWcnJzw7bffIi0tTWqjUqkQGBiI1NRUaV8FBQW9cpkTJkyAlZXVK88mmZmZ5XlmbufOnWjQoAGMjY1hamoKHx8fXLhwQdbG19cXJiYmuHPnDtq1awcTExOUKlUKo0ePRlZWlqxtdnY25s+fjypVqsDAwAA2Njb46quvEB8fL2uXcxlr165dqFWrFgwNDfHbb78BAAIDA/HZZ5/B2toaarUabm5uWLx48Zt2a6G6c+cO+vXrBxsbG6jValSpUgXLly+XtUlPT8eECRPg4eEBMzMzGBsbo0GDBti/f/9rlx0QEIAxY8YAAJydnaX398aNG7J2W7duRdWqVaX1BwcH56v2+/fvw8/PDzY2NjAwMECNGjWwYsUKaXrOZcLr169j+/btr1z/m5QqVQqVK1fOddYxv8fAyZMn4e3tDSsrKxgaGsLZ2Rn9+vWTpt+4cQMqlQqzZ8/GvHnz4OjoCENDQzRq1Ajnz5/PVc++ffukY9nc3Bxt27ZFZGSkrE3OZ/rq1avS2TkzMzP07dsXT548kbVNS0vDyJEjUapUKem75vbt23nui/wcLzn7fePGjfjxxx9RpkwZGBgYoGnTprh69arUrnHjxti+fTtu3rwpvTdOTk7S9F9++QVVqlSBkZERSpYsiVq1amHt2rV51kVyPENE+ZaYmIiHDx/mGp+RkfHGeQMCAjB9+nT0798fderUQVJSEk6ePIlTp07h888/x1dffYW7d+9i9+7dWLVqlWxeIQS++OIL7N+/H35+fnB3d8euXbswZswY3LlzR3Zmw9fXFxs3bkSvXr1Qt25dHDhwAD4+Pq+s68svv0TFihUxbdo0KVzt3r0b165dQ9++fWFra4sLFy5g6dKluHDhAo4ePSoLagDQpUsXuLq6YsaMGdi+fTumTp0KCwsL/Pbbb/jss8/w008/Yc2aNRg9ejRq166Nhg0bvnZf9e/fHytWrECnTp3wzTff4NixY5g+fToiIyPx119/AQBWrVqFpUuX4vjx41i2bBkA4NNPP81zeZcvX8bly5fRv39/mJiYvHbdL1q1ahX69OkDb29v/PTTT3jy5AkWL16M+vXr4/Tp07Iv4aysLHh7e8PT0xOzZ8/Gnj17MGfOHJQvXx5ff/211O6rr75CUFAQ+vbti2HDhuH69ev49ddfcfr0aRw+fBh6enpS26ioKHTr1g1fffUVBgwYABcXFwDA4sWLUaVKFXzxxRcoUaIE/v33XwwePBjZ2dnw9/fP9/a9KCMjI89jOzExMde4e/fuoW7dulLn5lKlSmHnzp3w8/NDUlKSdBkjKSkJy5YtQ7du3TBgwAAkJyfjjz/+gLe3N44fP/7KTvAdOnTA5cuXsW7dOsybNw9WVlYAngeMHP/99x+2bNmCwYMHw9TUFD///DM6duyImJgYWFpavnI7nz59isaNG+Pq1asYMmQInJ2dsWnTJvj6+iIhIQHDhw+Hq6srVq1ahZEjR6JMmTLSZbAX158fmZmZuH37NkqWLCkbn59j4P79+2jevDlKlSqF//3vfzA3N8eNGzewZcuWXOtZuXIlkpOT4e/vj2fPnmHBggX47LPPcO7cOdjY2AAA9uzZg5YtW6JcuXIICAjA06dP8csvv6BevXo4deqU7FgGgM6dO8PZ2RnTp0/HqVOnsGzZMlhbW+Onn36S2vTv3x+rV69G9+7d8emnn2Lfvn15ftfk93jJMWPGDOjo6GD06NFITEzEzJkz0aNHDxw7dgwA8N133yExMRG3b9+WvvtyPte///47hg0bhk6dOmH48OF49uwZzp49i2PHjqF79+5v9f4pkiB6g8DAQAHgta8qVarI5nF0dBR9+vSRhmvUqCF8fHxeux5/f3+R1yG5detWAUBMnTpVNr5Tp05CpVKJq1evCiGECA8PFwDEiBEjZO18fX0FADFx4kRp3MSJEwUA0a1bt1zre/LkSa5x69atEwDEwYMHcy1j4MCB0rjMzExRpkwZoVKpxIwZM6Tx8fHxwtDQULZP8hIRESEAiP79+8vGjx49WgAQ+/btk8b16dNHGBsbv3Z5Qgjx999/CwBi/vz5svHZ2dniwYMHsldGRoYQQojk5GRhbm4uBgwYIJsnLi5OmJmZycb36dNHABCTJ0+Wtf3kk0+Eh4eHNHzo0CEBQKxZs0bWLjg4ONd4R0dHAUAEBwfn2p683h9vb29Rrlw52bhGjRqJRo0a5bVLZHLW9brXpk2bpPZ+fn7Czs5OPHz4ULacrl27CjMzM6m+zMxMkZaWJmsTHx8vbGxsRL9+/WTjXz4+Z82aJQCI69ev56oXgNDX15eOeyGEOHPmjAAgfvnll9du6/z58wUAsXr1amlcenq68PLyEiYmJiIpKUm2X970mX2xbfPmzaXj6Ny5c6JXr14CgPD395fa5fcY+OuvvwQAceLEiVeu8/r16wKAMDQ0FLdv35bGHzt2TAAQI0eOlMa5u7sLa2tr8ejRI2ncmTNnhI6Ojujdu7c0Lucz/fL70759e2FpaSkN53xOBw8eLGvXvXv3XO9lfo+X/fv3CwDC1dVVdtwsWLBAABDnzp2Txvn4+AhHR8dc+6Rt27a5vosp/3jJjPJt4cKF2L17d65X9erV3zivubk5Lly4gCtXrrz1enfs2AFdXV0MGzZMNv6bb76BEAI7d+4EAOmSweDBg2Xthg4d+splDxo0KNe4F/upPHv2DA8fPkTdunUBAKdOncrVvn///tL/6+rqolatWhBCwM/PTxpvbm4OFxcXXLt27ZW1AM+3FQBGjRolG5/zr/Tt27e/dv68JCUlAUCus0OJiYkoVaqU7BUREQHg+VmyhIQEdOvWDQ8fPpReurq68PT0zPOyz8v7skGDBrLt3bRpE8zMzPD555/Llunh4QETE5Ncy3R2doa3t3eu9bz4/uSctWzUqBGuXbuW5xmd/PD09Mzz2J49e7asnRACmzdvRps2bSCEkG2Ht7c3EhMTpWNEV1dXujyZnZ2Nx48fIzMzE7Vq1crzOHobzZo1Q/ny5aXh6tWrQ6PR5Ov4srW1Rbdu3aRxenp6GDZsGFJSUnDgwIEC1xQSEiIdR9WqVcOqVavQt29fzJo1S2qT32MgpyP5tm3b3ngGul27dihdurQ0XKdOHXh6ekqfpdjYWERERMDX1xcWFhZSu+rVq+Pzzz+X2r0or2P50aNH0mcpZ56Xv5NePtvzNsdLjr59+8ouazdo0AAA3vjeAs/32+3bt3HixIk3tqXceMmM8q1OnTqoVatWrvElS5bM83LDiyZPnoy2bduiUqVKqFq1Klq0aIFevXrlK0zdvHkT9vb2MDU1lY13dXWVpuf8V0dHB87OzrJ2FSpUeOWyX24LAI8fP8akSZOwfv163L9/XzYtrz+4ZcuWlQ2bmZnBwMBAutTx4viX+yG9LGcbXq7Z1tYW5ubm0ra+jZz9lpKSIhtvYmIi9eEKCQmR/eHKCa6fffZZnsvUaDSyYQMDg1yXVEqWLCnrF3LlyhUkJibC2to6z2W+vK/zem8A4PDhw5g4cSLCwsJy9etITEyEmZlZnvO9jpWVFZo1a5ZrfIkS8q/IBw8eICEhAUuXLsXSpUvzXNaL27FixQrMmTMHly5dkv1hf9W25dfLxxyQe3/n5ebNm6hYsWKuO0Bf/iwVhKenJ6ZOnYqsrCycP38eU6dORXx8vOyPe36PgUaNGqFjx46YNGkS5s2bh8aNG6Ndu3bo3r17rhs2KlasmGs5lSpVwsaNG2XblHPJ9UWurq7YtWtXrhsqXt6/OZf94uPjodFopM/pi6E0r3W87fHypnW/ybhx47Bnzx7UqVMHFSpUQPPmzdG9e3fUq1fvjfMSAxEVkYYNGyI6Ohp///03QkJCsGzZMsybNw9LliyRnWEpanndtdS5c2ccOXIEY8aMgbu7O0xMTJCdnY0WLVogOzs7V3tdXd18jQOQqxP4q7zcT+ldVK5cGQBydTQtUaKEFAJe7gyas52rVq2Cra1trmW+HBRetb0vL9Pa2hpr1qzJc/rLgSqv9yY6OhpNmzZF5cqVMXfuXDg4OEBfXx87duzAvHnz8nx/ClPO8nv27Ik+ffrk2SYn5K9evRq+vr5o164dxowZA2tra+jq6mL69Onv/PMG73p8vQ8vhkpvb29UrlwZrVu3xoIFC6Qznvk9BnJ+++no0aP4999/sWvXLvTr1w9z5szB0aNH36ovXEEU1v59m+OlMNbt6uqKqKgobNu2DcHBwdi8eTMWLVqECRMmYNKkSW9VuxIxEFGRsbCwQN++fdG3b1+kpKSgYcOGCAgIkALRq0KAo6Mj9uzZg+TkZNlZokuXLknTc/6bnZ2N69evy/7V+OIdGm8SHx+PvXv3YtKkSZgwYYI0viCX+goiZxuuXLki/asdeN4xMyEhQdrWt+Hi4oKKFSti69atmD9/fr5+WiDnX77W1tZ5njkpiPLly2PPnj2oV69egW+f//fff5GWloZ//vlH9i/pN925VVhy7ijKysp64375888/Ua5cOWzZskV2bOfnd30KMxC/yNHREWfPnkV2drbsLNHLn6XC4OPjg0aNGmHatGn46quvYGxs/NbHQN26dVG3bl38+OOPWLt2LXr06IH169fL/hGV12fz8uXLUkfpnG2KiorK1e7SpUuwsrJ665/byPmcRkdHy84KvbyOtzle3sbrjg9jY2N06dIFXbp0QXp6Ojp06IAff/wR48ePh4GBQaHV8DFiHyIqEi9fKjIxMUGFChVkt5LnfCm9/Ou8rVq1QlZWFn799VfZ+Hnz5kGlUqFly5YAIPU3WbRokazdL7/8ku86c/519vK/xorqV2FbtWqV5/rmzp0LAK+9Y+51AgIC8PDhQwwYMCDPPhkvb6+3tzc0Gg2mTZuWZ/sHDx68dQ2dO3dGVlYWpkyZkmtaZmZmvn6VOa/3JzExEYGBgW9dT0Ho6uqiY8eO2Lx5c563dr+4X/Kq9dixYwgLC3vjel71WXhXrVq1QlxcHDZs2CCNy8zMxC+//AITExM0atSoUNc3btw4PHr0CL///juA/B8D8fHxuY7JnLvyXvzOAJ7//MCdO3ek4ePHj+PYsWPS94KdnR3c3d2xYsUK2f48f/48QkJCpM/c28hZ9s8//ywb//Ln9m2Ol7dhbGyc5+X7l79n9fX14ebmBiFEvu4GVjqeIaIi4ebmhsaNG8PDwwMWFhY4efIk/vzzT9kzmTw8PAA876jo7e0NXV1ddO3aFW3atEGTJk3w3Xff4caNG6hRowZCQkLw999/Y8SIEdLZDA8PD3Ts2BHz58/Ho0ePpNvuL1++DCB//+rWaDRo2LAhZs6ciYyMDJQuXRohISG4fv36e9grudWoUQN9+vTB0qVLkZCQgEaNGuH48eNYsWIF2rVrhyZNmhRoud27d8f58+cxffp0HD9+HF27doWzszNSU1Nx/vx5rFu3DqamplJ/BY1Gg8WLF6NXr16oWbMmunbtilKlSiEmJgbbt29HvXr1cgXUN2nUqBG++uorTJ8+HREREWjevDn09PRw5coVbNq0CQsWLECnTp1eu4zmzZtDX18fbdq0wVdffYWUlBT8/vvvsLa2RmxsbIH2zduaMWMG9u/fD09PTwwYMABubm54/PgxTp06hT179uDx48cAgNatW2PLli1o3749fHx8cP36dSxZsgRubm65+nO9LOez8N1336Fr167Q09NDmzZt3vmHQwcOHIjffvsNvr6+CA8Ph5OTE/78808cPnwY8+fPz9VP7121bNkSVatWxdy5c+Hv75/vY2DFihVYtGgR2rdvj/LlyyM5ORm///47NBpNrgBToUIF1K9fH19//TXS0tIwf/58WFpaYuzYsVKbWbNmoWXLlvDy8oKfn5902/2rfn/rTdzd3dGtWzcsWrQIiYmJ+PTTT7F37948z0bn93h5Gx4eHtiwYQNGjRqF2rVrw8TEBG3atEHz5s1ha2uLevXqwcbGBpGRkfj111/h4+NT6O/tR6nob2yjD03ObfevugW2UaNGb7ztfurUqaJOnTrC3NxcGBoaisqVK4sff/xRpKenS20yMzPF0KFDRalSpYRKpZLdgp+cnCxGjhwp7O3thZ6enqhYsaKYNWuWyM7Olq03NTVV+Pv7CwsLC2FiYiLatWsnoqKiBADZbfA5t9c+ePAg1/bcvn1btG/fXpibmwszMzPx5Zdfirt3777y1v2Xl/Gq2+Hz2k95ycjIEJMmTRLOzs5CT09PODg4iPHjx4tnz57laz2vExoaKjp16iTs7OyEnp6e0Gg0olatWmLixIkiNjY2V/v9+/cLb29vYWZmJgwMDET58uWFr6+vOHny5BvryNk/L1u6dKnw8PAQhoaGwtTUVFSrVk2MHTtW3L17V2rzulu+//nnH1G9enVhYGAgnJycxE8//SSWL1+e6zb1t7nt/lXryrkV+sXb7oUQ4t69e8Lf3184ODgIPT09YWtrK5o2bSqWLl0qtcnOzhbTpk0Tjo6OQq1Wi08++URs27ZN9OnTJ9ct0y8fW0IIMWXKFFG6dGmho6Mj2za8dCv7i9vxpp91yKm9b9++wsrKSujr64tq1aqJwMDAt9ovb9M2KChIAJCt403HwKlTp0S3bt1E2bJlhVqtFtbW1qJ169ay4y7ntvtZs2aJOXPmCAcHB6FWq0WDBg3EmTNnctWxZ88eUa9ePWFoaCg0Go1o06aNuHjxoqzNqz7TOd+BLx5fT58+FcOGDROWlpbC2NhYtGnTRty6dSvP9zI/x8urjrWc7Xxx/6WkpIju3bsLc3NzAUA6nn777TfRsGFDYWlpKdRqtShfvrwYM2aMSExMzPO9ITmVEFrshUdUBCIiIvDJJ59g9erV6NGjh7bLIaJCcOPGDTg7O2PWrFkYPXq0tsuhjwD7ENFH5enTp7nGzZ8/Hzo6Om/8hWgiIlIu9iGij8rMmTMRHh6OJk2aoESJEti5cyd27tyJgQMHwsHBQdvlERFRMcVARB+VTz/9FLt378aUKVOQkpKCsmXLIiAgAN999522SyMiomKMfYiIiIhI8diHiIiIiBSPgYiIiIgUj32I8iE7Oxt3796Fqanpe/tJfSIiIipcQggkJyfD3t4+10ONX8ZAlA93797lHUpEREQfqFu3bqFMmTKvbcNAlA85P3l+69YtaDQaLVdDRERE+ZGUlAQHB4d8PbqEgSgfci6TaTQaBiIiIqIPTH66u7BTNRERESkeAxEREREpHgMRERERKR77EBEREVGxlZWVhYyMjFdO19fXf+Mt9fnBQERERETFjhACcXFxSEhIeG07HR0dODs7Q19f/53Wp9VLZosXL0b16tWlu7e8vLywc+dOafqzZ8/g7+8PS0tLmJiYoGPHjrh3755sGTExMfDx8YGRkRGsra0xZswYZGZmytqEhoaiZs2aUKvVqFChAoKCgopi84iIiKiAcsKQtbU1nJyc4OzsnOvl6OgIXV1dxMbG4l0fzarVQFSmTBnMmDED4eHhOHnyJD777DO0bdsWFy5cAACMHDkS//77LzZt2oQDBw7g7t276NChgzR/VlYWfHx8kJ6ejiNHjmDFihUICgrChAkTpDbXr1+Hj48PmjRpgoiICIwYMQL9+/fHrl27inx7iYiI6M2ysrKkMGRpaQlDQ0MYGBjkehkZGaFUqVJ48uRJrpMhb6vYPe3ewsICs2bNQqdOnVCqVCmsXbsWnTp1AgBcunQJrq6uCAsLQ926dbFz5060bt0ad+/ehY2NDQBgyZIlGDduHB48eAB9fX2MGzcO27dvx/nz56V1dO3aFQkJCQgODs5XTUlJSTAzM0NiYiJ/h4iIiOg9e/bsGa5fvw4nJycYGhq+tu3Tp09x48YNODs7w8DAQDbtbf5+F5u7zLKysrB+/XqkpqbCy8sL4eHhyMjIQLNmzaQ2lStXRtmyZREWFgYACAsLQ7Vq1aQwBADe3t5ISkqSzjKFhYXJlpHTJmcZeUlLS0NSUpLsRUREREUrPz+oWFjPGNV6IDp37hxMTEygVqsxaNAg/PXXX3Bzc0NcXBz09fVhbm4ua29jY4O4uDgAz68vvhiGcqbnTHtdm6SkJDx9+jTPmqZPnw4zMzPpxeeYERERfdy0HohcXFwQERGBY8eO4euvv0afPn1w8eJFrdY0fvx4JCYmSq9bt25ptR4iIiJ6v7R+272+vj4qVKgAAPDw8MCJEyewYMECdOnSBenp6UhISJCdJbp37x5sbW0BALa2tjh+/LhseTl3ob3Y5uU70+7duweNRvPK65JqtRpqtbpQto+IiIiKP62fIXpZdnY20tLS4OHhAT09Pezdu1eaFhUVhZiYGHh5eQEAvLy8cO7cOdy/f19qs3v3bmg0Gri5uUltXlxGTpucZRAREVHxlJ/7vgrr3jCtniEaP348WrZsibJlyyI5ORlr165FaGgodu3aBTMzM/j5+WHUqFGwsLCARqPB0KFD4eXlhbp16wIAmjdvDjc3N/Tq1QszZ85EXFwcvv/+e/j7+0tneAYNGoRff/0VY8eORb9+/bBv3z5s3LgR27dv1+amExER0Svo6ekBAJ48efLGu8zS09MBALq6uu+0Tq0Govv376N3796IjY2FmZkZqlevjl27duHzzz8HAMybNw86Ojro2LEj0tLS4O3tjUWLFknz6+rqYtu2bfj666/h5eUFY2Nj9OnTB5MnT5baODs7Y/v27Rg5ciQWLFiAMmXKYNmyZfD29i7y7SXtiomJwcOHD7VdxkfPysoKZcuW1XYZRPQB09XVhbm5uXQFyMjIKM+7ybKzs/HgwQMYGRmhRIl3izTF7neIiiP+DtGHLyYmBi4urnj27Im2S/noGRgYISoqkqGIiN5JYTy6423+fmu9UzVRUXj48CGePXsCV9fVMDJy1XY5H60nTyIRGdkTDx8+ZCAioneiUqlgZ2cHa2trPtyVqLAZGbnC1LSmtssgIqJ80tXVfef+QflR7O4yIyIiIipqDERERESkeAxEREREpHgMRERERKR4DERERESkeAxEREREpHgMRERERKR4DERERESkeAxEREREpHgMRERERKR4DERERESkeAxEREREpHgMRERERKR4DERERESkeCW0XQARfXwiIyO1XcJHz8rKCmXLltV2GUQfDQYiIio06emxAHTQs2dPbZfy0TMwMEJUVCRDEVEhYSAiokKTmZkAIBtOTr/D0rKmtsv5aD15EonIyJ54+PAhAxFRIWEgIqJCZ2joAlNTBiIi+nCwUzUREREpHgMRERERKR4DERERESkeAxEREREpHgMRERERKR4DERERESkeAxEREREpHgMRERERKR4DERERESkeAxEREREpHgMRERERKR4DERERESkeAxEREREpHgMRERERKR4DERERESkeAxEREREpHgMRERERKR4DERERESkeAxEREREpHgMRERERKR4DERERESkeAxEREREpHgMRERERKR4DERERESkeAxEREREpHgMRERERKR4DERERESkeAxEREREpHgMRERERKZ5WA9H06dNRu3ZtmJqawtraGu3atUNUVJSsTePGjaFSqWSvQYMGydrExMTAx8cHRkZGsLa2xpgxY5CZmSlrExoaipo1a0KtVqNChQoICgp635tHREREHwitBqIDBw7A398fR48exe7du5GRkYHmzZsjNTVV1m7AgAGIjY2VXjNnzpSmZWVlwcfHB+np6Thy5AhWrFiBoKAgTJgwQWpz/fp1+Pj4oEmTJoiIiMCIESPQv39/7Nq1q8i2lYiIiIqvEtpceXBwsGw4KCgI1tbWCA8PR8OGDaXxRkZGsLW1zXMZISEhuHjxIvbs2QMbGxu4u7tjypQpGDduHAICAqCvr48lS5bA2dkZc+bMAQC4urriv//+w7x58+Dt7f3+NpCIiIg+CMWqD1FiYiIAwMLCQjZ+zZo1sLKyQtWqVTF+/Hg8efJEmhYWFoZq1arBxsZGGuft7Y2kpCRcuHBBatOsWTPZMr29vREWFpZnHWlpaUhKSpK9iIiI6OOl1TNEL8rOzsaIESNQr149VK1aVRrfvXt3ODo6wt7eHmfPnsW4ceMQFRWFLVu2AADi4uJkYQiANBwXF/faNklJSXj69CkMDQ1l06ZPn45JkyYV+jYSERFR8VRsApG/vz/Onz+P//77TzZ+4MCB0v9Xq1YNdnZ2aNq0KaKjo1G+fPn3Usv48eMxatQoaTgpKQkODg7vZV1ERESkfcXiktmQIUOwbds27N+/H2XKlHltW09PTwDA1atXAQC2tra4d++erE3OcE6/o1e10Wg0uc4OAYBarYZGo5G9iIiI6OOl1UAkhMCQIUPw119/Yd++fXB2dn7jPBEREQAAOzs7AICXlxfOnTuH+/fvS212794NjUYDNzc3qc3evXtly9m9eze8vLwKaUuIiIjoQ6bVQOTv74/Vq1dj7dq1MDU1RVxcHOLi4vD06VMAQHR0NKZMmYLw8HDcuHED//zzD3r37o2GDRuievXqAIDmzZvDzc0NvXr1wpkzZ7Br1y58//338Pf3h1qtBgAMGjQI165dw9ixY3Hp0iUsWrQIGzduxMiRI7W27URERFR8aDUQLV68GImJiWjcuDHs7Oyk14YNGwAA+vr62LNnD5o3b47KlSvjm2++QceOHfHvv/9Ky9DV1cW2bdugq6sLLy8v9OzZE71798bkyZOlNs7Ozti+fTt2796NGjVqYM6cOVi2bBlvuSciIiIAWu5ULYR47XQHBwccOHDgjctxdHTEjh07XtumcePGOH369FvVR0RERMpQLDpVExEREWkTAxEREREpHgMRERERKR4DERERESkeAxEREREpHgMRERERKR4DERERESkeAxEREREpHgMRERERKR4DERERESkeAxEREREpHgMRERERKR4DERERESkeAxEREREpHgMRERERKR4DERERESkeAxEREREpHgMRERERKR4DERERESkeAxEREREpHgMRERERKR4DERERESkeAxEREREpHgMRERERKR4DERERESkeAxEREREpHgMRERERKR4DERERESkeAxEREREpHgMRERERKV4JbRdAQExMDB4+fKjtMj5qkZGR2i6BiIiKMQYiLYuJiYGLiyuePXui7VIUIT09TdslEBFRMcRApGUPHz7Es2dP4Oq6GkZGrtou56P16NEO3LjxAzIzM7VdChERFUMMRMWEkZErTE1raruMj9aTJ7xkRkREr8ZO1URERKR4DERERESkeAxEREREpHgMRERERKR4DERERESkeAxEREREpHgMRERERKR4DERERESkeAxEREREpHgMRERERKR4DERERESkeAxEREREpHgMRERERKR4DERERESkeFoNRNOnT0ft2rVhamoKa2trtGvXDlFRUbI2z549g7+/PywtLWFiYoKOHTvi3r17sjYxMTHw8fGBkZERrK2tMWbMGGRmZsrahIaGombNmlCr1ahQoQKCgoLe9+YRERHRB0KrgejAgQPw9/fH0aNHsXv3bmRkZKB58+ZITU2V2owcORL//vsvNm3ahAMHDuDu3bvo0KGDND0rKws+Pj5IT0/HkSNHsGLFCgQFBWHChAlSm+vXr8PHxwdNmjRBREQERowYgf79+2PXrl1Fur1ERERUPJXQ5sqDg4Nlw0FBQbC2tkZ4eDgaNmyIxMRE/PHHH1i7di0+++wzAEBgYCBcXV1x9OhR1K1bFyEhIbh48SL27NkDGxsbuLu7Y8qUKRg3bhwCAgKgr6+PJUuWwNnZGXPmzAEAuLq64r///sO8efPg7e1d5NtNRERExUux6kOUmJgIALCwsAAAhIeHIyMjA82aNZPaVK5cGWXLlkVYWBgAICwsDNWqVYONjY3UxtvbG0lJSbhw4YLU5sVl5LTJWQYREREpm1bPEL0oOzsbI0aMQL169VC1alUAQFxcHPT19WFubi5ra2Njg7i4OKnNi2EoZ3rOtNe1SUpKwtOnT2FoaCiblpaWhrS0NGk4KSnp3TeQiIiIiq1ic4bI398f58+fx/r167VdCqZPnw4zMzPp5eDgoO2SiIiI6D0qFoFoyJAh2LZtG/bv348yZcpI421tbZGeno6EhARZ+3v37sHW1lZq8/JdZznDb2qj0WhynR0CgPHjxyMxMVF63bp16523kYiIiIovrQYiIQSGDBmCv/76C/v27YOzs7NsuoeHB/T09LB3715pXFRUFGJiYuDl5QUA8PLywrlz53D//n2pze7du6HRaODm5ia1eXEZOW1ylvEytVoNjUYjexEREdHHS6t9iPz9/bF27Vr8/fffMDU1lfr8mJmZwdDQEGZmZvDz88OoUaNgYWEBjUaDoUOHwsvLC3Xr1gUANG/eHG5ubujVqxdmzpyJuLg4fP/99/D394darQYADBo0CL/++ivGjh2Lfv36Yd++fdi4cSO2b9+utW0nIiKi4kOrZ4gWL16MxMRENG7cGHZ2dtJrw4YNUpt58+ahdevW6NixIxo2bAhbW1ts2bJFmq6rq4tt27ZBV1cXXl5e6NmzJ3r37o3JkydLbZydnbF9+3bs3r0bNWrUwJw5c7Bs2TLeck9EREQAtHyGSAjxxjYGBgZYuHAhFi5c+Mo2jo6O2LFjx2uX07hxY5w+ffqtayQiIqKPX7HoVE1ERESkTQxEREREpHgMRERERKR4DERERESkeAxEREREpHgMRERERKR4DERERESkeAxEREREpHgMRERERKR4DERERESkeAxEREREpHgMRERERKR4DERERESkeAxEREREpHgFCkTXrl0r7DqIiIiItKZAgahChQpo0qQJVq9ejWfPnhV2TURERERFqkCB6NSpU6hevTpGjRoFW1tbfPXVVzh+/Hhh10ZERERUJAoUiNzd3bFgwQLcvXsXy5cvR2xsLOrXr4+qVati7ty5ePDgQWHXSURERPTevFOn6hIlSqBDhw7YtGkTfvrpJ1y9ehWjR4+Gg4MDevfujdjY2MKqk4iIiOi9eadAdPLkSQwePBh2dnaYO3cuRo8ejejoaOzevRt3795F27ZtC6tOIiIiovemREFmmjt3LgIDAxEVFYVWrVph5cqVaNWqFXR0nucrZ2dnBAUFwcnJqTBrJSIiInovChSIFi9ejH79+sHX1xd2dnZ5trG2tsYff/zxTsURERERFYUCBaIrV668sY2+vj769OlTkMUTERERFakC9SEKDAzEpk2bco3ftGkTVqxY8c5FERERERWlAgWi6dOnw8rKKtd4a2trTJs27Z2LIiIiIipKBQpEMTExcHZ2zjXe0dERMTEx71wUERERUVEqUCCytrbG2bNnc40/c+YMLC0t37koIiIioqJUoEDUrVs3DBs2DPv370dWVhaysrKwb98+DB8+HF27di3sGomIiIjeqwLdZTZlyhTcuHEDTZs2RYkSzxeRnZ2N3r17sw8RERERfXAKFIj09fWxYcMGTJkyBWfOnIGhoSGqVasGR0fHwq6PiIiI6L0rUCDKUalSJVSqVKmwaiEiIiLSigIFoqysLAQFBWHv3r24f/8+srOzZdP37dtXKMURERERFYUCBaLhw4cjKCgIPj4+qFq1KlQqVWHXRURERFRkChSI1q9fj40bN6JVq1aFXQ8RERFRkSvQbff6+vqoUKFCYddCREREpBUFCkTffPMNFixYACFEYddDREREVOQKdMnsv//+w/79+7Fz505UqVIFenp6sulbtmwplOKIiIiIikKBApG5uTnat29f2LUQERERaUWBAlFgYGBh10FERESkNQXqQwQAmZmZ2LNnD3777TckJycDAO7evYuUlJRCK46IiIioKBToDNHNmzfRokULxMTEIC0tDZ9//jlMTU3x008/IS0tDUuWLCnsOomIiIjemwKdIRo+fDhq1aqF+Ph4GBoaSuPbt2+PvXv3FlpxREREREWhQGeIDh06hCNHjkBfX1823snJCXfu3CmUwoiIiIiKSoHOEGVnZyMrKyvX+Nu3b8PU1PSdiyIiIiIqSgUKRM2bN8f8+fOlYZVKhZSUFEycOJGP8yAiIqIPToEumc2ZMwfe3t5wc3PDs2fP0L17d1y5cgVWVlZYt25dYddIRERE9F4VKBCVKVMGZ86cwfr163H27FmkpKTAz88PPXr0kHWyJiIiIvoQFCgQAUCJEiXQs2fPwqyFiIiISCsKFIhWrlz52um9e/cuUDFERERE2lDg3yF68TV48GD4+vpi4MCBGDFiRL6Xc/DgQbRp0wb29vZQqVTYunWrbLqvry9UKpXs1aJFC1mbx48fo0ePHtBoNDA3N4efn1+uX8s+e/YsGjRoAAMDAzg4OGDmzJkF2WwiIiL6SBUoEMXHx8teKSkpiIqKQv369d+qU3Vqaipq1KiBhQsXvrJNixYtEBsbK71eXn6PHj1w4cIF7N69G9u2bcPBgwcxcOBAaXpSUhKaN28OR0dHhIeHY9asWQgICMDSpUvffsOJiIjoo1TgPkQvq1ixImbMmIGePXvi0qVL+ZqnZcuWaNmy5WvbqNVq2Nra5jktMjISwcHBOHHiBGrVqgUA+OWXX9CqVSvMnj0b9vb2WLNmDdLT07F8+XLo6+ujSpUqiIiIwNy5c2XBiYiIiJSrwA93zUuJEiVw9+7dwlwkQkNDYW1tDRcXF3z99dd49OiRNC0sLAzm5uZSGAKAZs2aQUdHB8eOHZPaNGzYUPar2t7e3oiKikJ8fHye60xLS0NSUpLsRURERB+vAp0h+ueff2TDQgjExsbi119/Rb169QqlMOD55bIOHTrA2dkZ0dHR+Pbbb9GyZUuEhYVBV1cXcXFxsLa2ls1TokQJWFhYIC4uDgAQFxcHZ2dnWRsbGxtpWsmSJXOtd/r06Zg0aVKhbQcREREVbwUKRO3atZMNq1QqlCpVCp999hnmzJlTGHUBALp27Sr9f7Vq1VC9enWUL18eoaGhaNq0aaGt52Xjx4/HqFGjpOGkpCQ4ODi8t/URERGRdhUoEGVnZxd2HflSrlw5WFlZ4erVq2jatClsbW1x//59WZvMzEw8fvxY6ndka2uLe/fuydrkDL+qb5JarYZarX4PW0BERETFUaH2IXrfbt++jUePHsHOzg4A4OXlhYSEBISHh0tt9u3bh+zsbHh6ekptDh48iIyMDKnN7t274eLikuflMiIiIlKeAp0hevFy0pvMnTv3ldNSUlJw9epVafj69euIiIiAhYUFLCwsMGnSJHTs2BG2traIjo7G2LFjUaFCBXh7ewMAXF1d0aJFCwwYMABLlixBRkYGhgwZgq5du8Le3h4A0L17d0yaNAl+fn4YN24czp8/jwULFmDevHkF2XQiIiL6CBUoEJ0+fRqnT59GRkYGXFxcAACXL1+Grq4uatasKbVTqVSvXc7JkyfRpEkTaTgnaPXp0weLFy/G2bNnsWLFCiQkJMDe3h7NmzfHlClTZJez1qxZgyFDhqBp06bQ0dFBx44d8fPPP0vTzczMEBISAn9/f3h4eMDKygoTJkzgLfdEREQkKVAgatOmDUxNTbFixQrpslN8fDz69u2LBg0a4JtvvsnXcho3bgwhxCun79q1643LsLCwwNq1a1/bpnr16jh06FC+aiIiIiLlKVAfojlz5mD69OmyPjglS5bE1KlTC/UuMyIiIqKiUKBAlJSUhAcPHuQa/+DBAyQnJ79zUURERERFqUCBqH379ujbty+2bNmC27dv4/bt29i8eTP8/PzQoUOHwq6RiIiI6L0qUB+iJUuWYPTo0ejevbt0O3uJEiXg5+eHWbNmFWqBRERERO9bgQKRkZERFi1ahFmzZiE6OhoAUL58eRgbGxdqcURERERF4Z1+mDE2NhaxsbGoWLEijI2NX3vHGBEREVFxVaBA9OjRIzRt2hSVKlVCq1atEBsbCwDw8/PL9y33RERERMVFgQLRyJEjoaenh5iYGBgZGUnju3TpguDg4EIrjoiIiKgoFKgPUUhICHbt2oUyZcrIxlesWBE3b94slMKIiIiIikqBzhClpqbKzgzlePz4MZ8ST0RERB+cAgWiBg0aYOXKldKwSqVCdnY2Zs6cKXs2GREREdGHoECXzGbOnImmTZvi5MmTSE9Px9ixY3HhwgU8fvwYhw8fLuwaiYiIiN6rAp0hqlq1Ki5fvoz69eujbdu2SE1NRYcOHXD69GmUL1++sGskIiIieq/e+gxRRkYGWrRogSVLluC77757HzURERERFam3PkOkp6eHs2fPvo9aiIiIiLSiQJfMevbsiT/++KOwayEiIiLSigJ1qs7MzMTy5cuxZ88eeHh45HqG2dy5cwulOCIiIqKi8FaB6Nq1a3BycsL58+dRs2ZNAMDly5dlbVQqVeFVR0RERFQE3ioQVaxYEbGxsdi/fz+A54/q+Pnnn2FjY/NeiiMiIiIqCm8ViF5+mv3OnTuRmppaqAUREREVJzExMXj48KG2y/joWVlZoWzZslpbf4H6EOV4OSARERF9TGJiYuDi4opnz55ou5SPnoGBEaKiIrUWit4qEKlUqlx9hNhniIiIPlYPHz7Es2dP4Oq6GkZGrtou56P15EkkIiN74uHDhx9GIBJCwNfXV3qA67NnzzBo0KBcd5lt2bKl8CokIiLSMiMjV5ia1tR2GfQevVUg6tOnj2y4Z8+ehVoMERERkTa8VSAKDAx8X3UQERERaU2BfqmaiIiI6GPCQERERESKx0BEREREisdARERERIrHQERERESKx0BEREREisdARERERIrHQERERESKx0BEREREisdARERERIrHQERERESKx0BEREREisdARERERIrHQERERESKx0BEREREisdARERERIrHQERERESKx0BEREREisdARERERIrHQERERESKx0BEREREisdARERERIrHQERERESKp9VAdPDgQbRp0wb29vZQqVTYunWrbLoQAhMmTICdnR0MDQ3RrFkzXLlyRdbm8ePH6NGjBzQaDczNzeHn54eUlBRZm7Nnz6JBgwYwMDCAg4MDZs6c+b43jYiIiD4gWg1EqampqFGjBhYuXJjn9JkzZ+Lnn3/GkiVLcOzYMRgbG8Pb2xvPnj2T2vTo0QMXLlzA7t27sW3bNhw8eBADBw6UpiclJaF58+ZwdHREeHg4Zs2ahYCAACxduvS9bx8RERF9GEpoc+UtW7ZEy5Yt85wmhMD8+fPx/fffo23btgCAlStXwsbGBlu3bkXXrl0RGRmJ4OBgnDhxArVq1QIA/PLLL2jVqhVmz54Ne3t7rFmzBunp6Vi+fDn09fVRpUoVREREYO7cubLgRERERMpVbPsQXb9+HXFxcWjWrJk0zszMDJ6enggLCwMAhIWFwdzcXApDANCsWTPo6Ojg2LFjUpuGDRtCX19fauPt7Y2oqCjEx8cX0dYQERFRcabVM0SvExcXBwCwsbGRjbexsZGmxcXFwdraWja9RIkSsLCwkLVxdnbOtYycaSVLlsy17rS0NKSlpUnDSUlJ77g1REREVJwV2zNE2jR9+nSYmZlJLwcHB22XRERERO9RsQ1Etra2AIB79+7Jxt+7d0+aZmtri/v378umZ2Zm4vHjx7I2eS3jxXW8bPz48UhMTJRet27devcNIiIiomKr2AYiZ2dn2NraYu/evdK4pKQkHDt2DF5eXgAALy8vJCQkIDw8XGqzb98+ZGdnw9PTU2pz8OBBZGRkSG12794NFxeXPC+XAYBarYZGo5G9iIiI6OOl1UCUkpKCiIgIREREAHjekToiIgIxMTFQqVQYMWIEpk6din/++Qfnzp1D7969YW9vj3bt2gEAXF1d0aJFCwwYMADHjx/H4cOHMWTIEHTt2hX29vYAgO7du0NfXx9+fn64cOECNmzYgAULFmDUqFFa2moiIiIqbrTaqfrkyZNo0qSJNJwTUvr06YOgoCCMHTsWqampGDhwIBISElC/fn0EBwfDwMBAmmfNmjUYMmQImjZtCh0dHXTs2BE///yzNN3MzAwhISHw9/eHh4cHrKysMGHCBN5yT0RERBKtBqLGjRtDCPHK6SqVCpMnT8bkyZNf2cbCwgJr16597XqqV6+OQ4cOFbhOIiIi+rgV2z5EREREREWFgYiIiIgUj4GIiIiIFI+BiIiIiBSPgYiIiIgUj4GIiIiIFI+BiIiIiBSPgYiIiIgUj4GIiIiIFI+BiIiIiBSPgYiIiIgUj4GIiIiIFI+BiIiIiBSPgYiIiIgUj4GIiIiIFI+BiIiIiBSPgYiIiIgUj4GIiIiIFI+BiIiIiBSPgYiIiIgUj4GIiIiIFI+BiIiIiBSPgYiIiIgUj4GIiIiIFI+BiIiIiBSPgYiIiIgUj4GIiIiIFI+BiIiIiBSPgYiIiIgUj4GIiIiIFI+BiIiIiBSPgYiIiIgUj4GIiIiIFI+BiIiIiBSPgYiIiIgUj4GIiIiIFI+BiIiIiBSPgYiIiIgUj4GIiIiIFI+BiIiIiBSPgYiIiIgUj4GIiIiIFI+BiIiIiBSPgYiIiIgUj4GIiIiIFI+BiIiIiBSPgYiIiIgUj4GIiIiIFI+BiIiIiBSvWAeigIAAqFQq2aty5crS9GfPnsHf3x+WlpYwMTFBx44dce/ePdkyYmJi4OPjAyMjI1hbW2PMmDHIzMws6k0hIiKiYqyEtgt4kypVqmDPnj3ScIkS/1fyyJEjsX37dmzatAlmZmYYMmQIOnTogMOHDwMAsrKy4OPjA1tbWxw5cgSxsbHo3bs39PT0MG3atCLfFiIiIiqein0gKlGiBGxtbXONT0xMxB9//IG1a9fis88+AwAEBgbC1dUVR48eRd26dRESEoKLFy9iz549sLGxgbu7O6ZMmYJx48YhICAA+vr6Rb05REREVAwV60tmAHDlyhXY29ujXLly6NGjB2JiYgAA4eHhyMjIQLNmzaS2lStXRtmyZREWFgYACAsLQ7Vq1WBjYyO18fb2RlJSEi5cuPDKdaalpSEpKUn2IiIioo9XsQ5Enp6eCAoKQnBwMBYvXozr16+jQYMGSE5ORlxcHPT19WFubi6bx8bGBnFxcQCAuLg4WRjKmZ4z7VWmT58OMzMz6eXg4FC4G0ZERETFSrG+ZNayZUvp/6tXrw5PT084Ojpi48aNMDQ0fG/rHT9+PEaNGiUNJyUlMRQRERF9xIr1GaKXmZubo1KlSrh69SpsbW2Rnp6OhIQEWZt79+5JfY5sbW1z3XWWM5xXv6QcarUaGo1G9iIiIqKP1wcViFJSUhAdHQ07Ozt4eHhAT08Pe/fulaZHRUUhJiYGXl5eAAAvLy+cO3cO9+/fl9rs3r0bGo0Gbm5uRV4/ERERFU/F+pLZ6NGj0aZNGzg6OuLu3buYOHEidHV10a1bN5iZmcHPzw+jRo2ChYUFNBoNhg4dCi8vL9StWxcA0Lx5c7i5uaFXr16YOXMm4uLi8P3338Pf3x9qtVrLW0dERETFRbEORLdv30a3bt3w6NEjlCpVCvXr18fRo0dRqlQpAMC8efOgo6ODjh07Ii0tDd7e3li0aJE0v66uLrZt24avv/4aXl5eMDY2Rp8+fTB58mRtbRIREREVQ8U6EK1fv/610w0MDLBw4UIsXLjwlW0cHR2xY8eOwi6NiIiIPiIfVB8iIiIioveBgYiIiIgUj4GIiIiIFI+BiIiIiBSPgYiIiIgUj4GIiIiIFI+BiIiIiBSPgYiIiIgUj4GIiIiIFI+BiIiIiBSPgYiIiIgUj4GIiIiIFI+BiIiIiBSPgYiIiIgUj4GIiIiIFI+BiIiIiBSPgYiIiIgUj4GIiIiIFI+BiIiIiBSPgYiIiIgUj4GIiIiIFI+BiIiIiBSPgYiIiIgUj4GIiIiIFI+BiIiIiBSPgYiIiIgUj4GIiIiIFI+BiIiIiBSvhLYLICKigomMjNR2CR897mPlYCAiIvrApKfHAtBBz549tV2KYqSnp2m7BHrPGIiIiD4wmZkJALLh5PQ7LC1rarucj9qjRztw48YPyMzM1HYp9J4xEBERfaAMDV1gaspA9D49ecJLZkrBTtVERESkeAxEREREpHgMRERERKR4DERERESkeAxEREREpHgMRERERKR4DERERESkeAxEREREpHgMRERERKR4DERERESkeAxEREREpHgMRERERKR4DERERESkeAxEREREpHgMRERERKR4DERERESkeIoKRAsXLoSTkxMMDAzg6emJ48ePa7skIiIiKgYUE4g2bNiAUaNGYeLEiTh16hRq1KgBb29v3L9/X9ulERERkZYpJhDNnTsXAwYMQN++feHm5oYlS5bAyMgIy5cv13ZpREREpGWKCETp6ekIDw9Hs2bNpHE6Ojpo1qwZwsLCtFgZERERFQcltF1AUXj48CGysrJgY2MjG29jY4NLly7lap+Wloa0tDRpODExEQCQlJRU6LWlpKQAAJKTw5GVlVLoy6fnUlMj//9/I5CQILRczceL+7locD8XHe7rovHkSRSA538TC/Nvbc6yhMjHeycU4M6dOwKAOHLkiGz8mDFjRJ06dXK1nzhxogDAF1988cUXX3x9BK9bt269MSso4gyRlZUVdHV1ce/ePdn4e/fuwdbWNlf78ePHY9SoUdJwdnY2Hj9+DEtLS6hUqvdeb3GXlJQEBwcH3Lp1CxqNRtvlfLS4n4sG93PR4b4uGtzP/0cIgeTkZNjb27+xrSICkb6+Pjw8PLB37160a9cOwPOQs3fvXgwZMiRXe7VaDbVaLRtnbm5eBJV+WDQajeI/bEWB+7locD8XHe7rosH9/JyZmVm+2ikiEAHAqFGj0KdPH9SqVQt16tTB/PnzkZqair59+2q7NCIiItIyxQSiLl264MGDB5gwYQLi4uLg7u6O4ODgXB2tiYiISHkUE4gAYMiQIXleIqO3o1arMXHixFyXFalwcT8XDe7nosN9XTS4nwtGJUR+7kUjIiIi+ngp4ocZiYiIiF6HgYiIiIgUj4GIiIiIFI+BiAosKChI9vtMAQEBcHd311o9JOfk5IT58+druwzKh8aNG2PEiBHaLoM+AEIIDBw4EBYWFlCpVIiIiHht+xs3buSrHTEQUTH3cugiIlKy4OBgBAUFYdu2bYiNjUXVqlVf297BwSFf7Uhht90T0ccvIyMDenp62i6DCll6ejr09fW1XYbWRUdHw87ODp9++mm+2uvq6ub5iKocQghkZWWhRAnGAZ4h+sBlZ2dj+vTpcHZ2hqGhIWrUqIE///wTQgg0a9YM3t7e0lN+Hz9+jDJlymDChAnS/P/++y9q164NAwMDWFlZoX379tK0tLQ0jB49GqVLl4axsTE8PT0RGhr6VvUtW7YMrq6uMDAwQOXKlbFo0SJpWs6p3C1btqBJkyYwMjJCjRo1EBYWBgAIDQ1F3759kZiYCJVKBZVKhYCAgILvLC1JTk5Gjx49YGxsDDs7O8ybN092iSQ+Ph69e/dGyZIlYWRkhJYtW+LKlSuyZWzevBlVqlSBWq2Gk5MT5syZI5t+//59tGnTBoaGhnB2dsaaNWuKavMKbOnSpbC3t0d2drZsfNu2bdGvXz9p+O+//0bNmjVhYGCAcuXKYdKkScjMzJSmq1QqLF68GF988QWMjY0xdepUVKhQAbNnz5YtNyIiAiqVClevXs2znszMTAwbNgzm5uawtLTEuHHj0KdPH+lxP8Dzz8SwYcNgbW0NAwMD1K9fHydOnJAt58CBA6hTpw7UajXs7Ozwv//9T1ZvamoqevfuDRMTE9jZ2eV6Lz8EjRs3ln7XzczMDFZWVvjhhx+k75rCOKadnJwwZcoU9O7dGxqNBgMHDiyy7SuufH19MXToUMTExEClUsHJyQnBwcGoX7++dNy2bt0a0dHR0jwvXzILDQ2FSqXCzp074eHhAbVajf/++09LW1TMvPOj5Emrpk6dKipXriyCg4NFdHS0CAwMFGq1WoSGhorbt2+LkiVLivnz5wshhPjyyy9FnTp1REZGhhBCiG3btgldXV0xYcIEcfHiRRERESGmTZsmLbt///7i008/FQcPHhRXr14Vs2bNEmq1Wly+fFkIIURgYKAwMzOT2k+cOFHUqFFDGl69erWws7MTmzdvFteuXRObN28WFhYWIigoSAghxPXr1wUAUblyZbFt2zYRFRUlOnXqJBwdHUVGRoZIS0sT8+fPFxqNRsTGxorY2FiRnJz8nvdo4evfv79wdHQUe/bsEefOnRPt27cXpqamYvjw4UIIIb744gvh6uoqDh48KCIiIoS3t7eoUKGCSE9PF0IIcfLkSaGjoyMmT54soqKiRGBgoDA0NBSBgYHSOlq2bClq1KghwsLCxMmTJ8Wnn34qDA0Nxbx584p+g/Pp8ePHQl9fX+zZs0ca9+jRI9m4gwcPCo1GI4KCgkR0dLQICQkRTk5OIiAgQJoHgLC2thbLly8X0dHR4ubNm+LHH38Ubm5usvUNGzZMNGzY8JX1TJ06VVhYWIgtW7aIyMhIMWjQIKHRaETbtm1ly7C3txc7duwQFy5cEH369BElS5YUjx49EkIIcfv2bWFkZCQGDx4sIiMjxV9//SWsrKzExIkTpWV8/fXXomzZsmLPnj3i7NmzonXr1rLj4UPQqFEjYWJiIoYPHy4uXbokVq9eLYyMjMTSpUuFEIVzTDs6OgqNRiNmz54trl69Kq5evaqNTS1WEhISxOTJk0WZMmVEbGysuH//vvjzzz/F5s2bxZUrV8Tp06dFmzZtRLVq1URWVpYQ4v++Z0+fPi2EEGL//v0CgKhevboICQkRV69elY5fpWMg+oA9e/ZMGBkZiSNHjsjG+/n5iW7dugkhhNi4caMwMDAQ//vf/4SxsbEUZoQQwsvLS/To0SPPZd+8eVPo6uqKO3fuyMY3bdpUjB8/Xgjx5kBUvnx5sXbtWtn8U6ZMEV5eXkKI//ugLlu2TJp+4cIFAUBERkbmuY4PTVJSktDT0xObNm2SxiUkJAgjIyMxfPhwcfnyZQFAHD58WJr+8OFDYWhoKDZu3CiEEKJ79+7i888/ly13zJgx0h/8qKgoAUAcP35cmh4ZGSkAFOtAJIQQbdu2Ff369ZOGf/vtN2Fvby99mTdt2lQW0oUQYtWqVcLOzk4aBiBGjBgha3Pnzh2hq6srjh07JoQQIj09XVhZWUlhPC82NjZi1qxZ0nBmZqYoW7asFIhSUlKEnp6eWLNmjdQmPT1d2Nvbi5kzZwohhPj222+Fi4uLyM7OltosXLhQmJiYiKysLJGcnCz09fWl91aI5yHQ0NDwgwtErq6usu0cN26ccHV1LZRjWojngahdu3bveUs+PPPmzROOjo6vnP7gwQMBQJw7d04I8epAtHXr1iKo9sPCS2YfsKtXr+LJkyf4/PPPYWJiIr1WrlwpnTL98ssv0b59e8yYMQOzZ89GxYoVpfkjIiLQtGnTPJd97tw5ZGVloVKlSrJlHzhwQHY69lVSU1MRHR0NPz8/2fxTp07NNX/16tWl/7ezswPw/BLQx+DatWvIyMhAnTp1pHFmZmZwcXEBAERGRqJEiRLw9PSUpltaWsLFxQWRkZFSm3r16smWW69ePVy5cgVZWVnSMjw8PKTplStX/iA6o/fo0QObN29GWloaAGDNmjXo2rUrdHSefzWdOXMGkydPlh1DAwYMQGxsLJ48eSItp1atWrLl2tvbw8fHB8uXLwfw/NJwWloavvzyyzzrSExMxL1792Tvk66urmyfRkdHIyMjQ/Ze6OnpoU6dOrL3ysvLCyqVSmpTr149pKSk4Pbt24iOjkZ6errs/bawsJCOhw9J3bp1Zdvp5eWFK1eu4OLFi+98TOd4+X2l3K5cuYJu3bqhXLly0Gg0cHJyAgDExMS8dj7u29zYi+oDlpKSAgDYvn07SpcuLZuW8wybJ0+eIDw8HLq6urmu4RsaGr522bq6utK8LzIxMcl3bb///rvsixFAruW92AE25wv25X4l9HFq06YNhBDYvn07ateujUOHDmHevHnS9JSUFEyaNAkdOnTINa+BgYH0/8bGxrmm9+/fH7169cK8efMQGBiILl26wMjI6P1sCL0Xeb2vJNemTRs4Ojri999/l/rkVa1aFenp6a+dj/s2N54h+oC5ublBrVYjJiYGFSpUkL0cHBwAAN988w10dHSwc+dO/Pzzz9i3b580f/Xq1bF37948l/3JJ58gKysL9+/fz7Xs192xkMPGxgb29va4du1arvmdnZ3zvY36+vqyfzF+aMqVKwc9PT1Zx9vExERcvnwZAODq6orMzEwcO3ZMmv7o0SNERUXBzc1NanP48GHZcg8fPoxKlSpBV1cXlStXRmZmJsLDw6XpUVFRSEhIeI9bVjgMDAzQoUMHrFmzBuvWrYOLiwtq1qwpTa9ZsyaioqJyHUMVKlSQziK9SqtWrWBsbIzFixcjODhY1lH7ZWZmZrCxsZG9T1lZWTh16pQ0XL58eejr68vei4yMDJw4cUL2XoWFhUmdi4Hn75WpqSnKlCmD8uXLQ09PT/Z+x8fHS8fDh+TFbQCAo0ePomLFinBzc3vnY5ryJ2e/fv/992jatClcXV0RHx+v7bI+XNq+Zkfv5rvvvhOWlpYiKChIXL16VYSHh4uff/5ZBAUFiW3btgl9fX0RHh4uhBBi/PjxokyZMuLx48dCiOfXknV0dKRO1WfPnhUzZsyQlt2jRw/h5OQkdYo+duyYmDZtmti2bZsQ4s19iH7//XdhaGgoFixYIKKiosTZs2fF8uXLxZw5c4QQua9tCyFEfHy8ACD2798vhBDi8OHDAoDYs2ePePDggUhNTX0Pe/H96t+/v3B2dhb79u0T58+fFx07dhSmpqZSv5e2bdsKNzc3cejQIRERESFatGgh64AaHh4u64AaFBSUqwNqixYtxCeffCKOHj0qTp48KerXr1/sO1Xn2L17t1Cr1cLFxUVMmTJFNi04OFiUKFFCBAQEiPPnz4uLFy+KdevWie+++05qA0D89ddfeS7722+/Ffr6+sLV1fWNdUydOlVYWlqKrVu3ikuXLgl/f3+h0Whk/ViGDx8u7O3txc6dO2WdqnM+Uzmdqv39/UVkZKTYunVrrk7VgwYNEo6OjmLv3r3i3Llz4osvvpA6KH8ocjpVjxw5Uly6dEmsXbtWGBsbiyVLlgghCueYdnR0/CCO36L2Yh+irKwsYWlpKXr27CmuXLki9u7dK2rXri37TLyqD1F8fLxW6i/OGIg+cNnZ2WL+/PnCxcVF6OnpiVKlSglvb28RGhoqbGxsZB1S09PThYeHh+jcubM0bvPmzcLd3V3o6+sLKysr0aFDB1n7CRMmCCcnJ6Gnpyfs7OxE+/btxdmzZ4UQbw5EQgixZs0aafklS5YUDRs2FFu2bBFC5C8QCfH8D4ilpaUAIPvD8qFISkoS3bt3F0ZGRsLW1lbMnTtX1KlTR/zvf/8TQjy/26pXr17CzMxMGBoaCm9vb1nndyGE+PPPP4Wbm5vQ09MTZcuWlXX+FUKI2NhY4ePjI9RqtShbtqxYuXLlB/MHJSsrS9jZ2QkAIjo6Otf04OBg6a45jUYj6tSpI93NJMTrA1F0dLQAIHV6fp2MjAwxZMgQodFoRMmSJcW4cePEl19+Kbp27Sq1efr0qRg6dKiwsrISarVa1KtXT9aZXQghQkNDRe3atYW+vr6wtbUV48aNk+7sFEKI5ORk0bNnT2FkZCRsbGzEzJkzRaNGjT64QDR48GDpTrySJUuKb7/9VupkXRjH9Idy/Ba1lztV7969W7i6ugq1Wi2qV68uQkNDGYgKSCXEC+d2iei9S01NRenSpTFnzhz4+flpu5yP2qFDh9C0aVPcunULNjY2bzVvdnY2XF1d0blzZ0yZMuU9Vfhhaty4Mdzd3floGPqosFM10Xt2+vRpXLp0CXXq1EFiYiImT54M4PkPENL7kZaWhgcPHiAgIABffvllvsLQzZs3ERISgkaNGiEtLQ2//vorrl+/ju7duxdBxUSkbexUTVQEZs+ejRo1aqBZs2ZITU3FoUOHYGVlpe2yPlrr1q2Do6MjEhISMHPmzHzNo6Ojg6CgINSuXRv16tXDuXPnsGfPHri6ur7naomoOOAlMyIiIlI8niEiIiIixWMgIiIiIsVjICIiIiLFYyAiIiIixWMgIiqGfH190a5du7eaR6VSYevWre+lnuIqKCjojQ+xDQgIgLu7e5HUQ/mXn/euMOTn/b9x4wZUKhUiIiLeatlK/Mx9zBiIqFgpSBAgIsqvwvyOiY2NRcuWLd/Y7tGjR/D394ejoyOMjY3x6aefyp6TR8UDAxFREcrIyNB2CURF6k1PXf+Q2draQq1Wv7Hd5cuXoaOjg40bN+LUqVOwtrZGx44di6BCehsMRFSsNW7cGMOGDcPYsWNhYWEBW1tbBAQEvHaezMxMDBs2DObm5rC0tMS4cePQp08f2b8Ks7OzMX36dDg7O8PQ0BA1atTAn3/+KU0PDQ2FSqXC3r17UatWLRgZGeHTTz9FVFSUbF1///03atasCQMDA5QrVw6TJk1CZmamNF2lUmHx4sX44osvYGxsjB9//BFZWVnw8/OT1u3i4oIFCxYUyv56+PAh2rdvDyMjI1SsWBH//POPbPqBAwdQp04dqNVq2NnZ4X//+59U77Zt22Bubo6srCwAQEREBFQqFf73v/9J8/fv3x89e/bMc92jR49G69atpeH58+dDpVIhODhYGlehQgUsW7YMwPP3YPLkyShTpgzUajXc3d1lbXPeg4SEBGlcTk03btx45T6YMWMGbGxsYGpqCj8/Pzx79uyVbYUQqFChAmbPni0bn7Oeq1evAgBiYmLQtm1bmJiYQKPRoHPnzrh3757UPq+zDiNGjEDjxo1fue6bN2+iTZs2KFmyJIyNjVGlShXs2LEDAN54jBw8eBB6enqIi4vLtc4GDRrkub5+/frJ3h/geUC3trbGH3/8AeD5L3wPGzYM1tbWMDAwQP369XHixAmpfV6XubZu3QqVSiUN51yiWrZsGZydnWFgYPDKfQAAu3btgqurK0xMTNCiRQvExsbKpi9btgyurq4wMDBA5cqVsWjRItn0cePGoVKlSjAyMkK5cuXwww8/vPIfHgEBAVixYgX+/vtvqFQqqFQqhIaGStOvXbuGJk2awMjICDVq1EBYWNhra3/xkll6ejqGDBkCOzs7GBgYwNHREdOnTwcAeHl54ZdffoGnpydcXFzQu3dvxMbGyr4rqBjQ6pPUiF7Sp08f0bZtW2m4UaNGQqPRiICAAHH58mWxYsUKoVKpREhIyCuXMXXqVGFhYSG2bNkiIiMjpQdQvrjcqVOnisqVK4vg4GARHR0tAgMDhVqtFqGhoUKI/3sAoqenpwgNDRUXLlwQDRo0EJ9++qm0jIMHDwqNRiOCgoJEdHS0CAkJEU5OTiIgIEBqA0BYW1uL5cuXi+joaHHz5k3pobknTpwQ165dE6tXrxZGRkZiw4YNr9wP+QFAlClTRqxdu1ZcuXJFDBs2TJiYmIhHjx4JIf7vSeyDBw8WkZGR4q+//pI9iT0hIUHo6OiIEydOCCGEmD9/vrCyshKenp7SOipUqCB+//33PNf/zz//CDMzM5GZmSmEEKJdu3bCyspKjBs3Tlo/AHHlyhUhhBBz584VGo1GrFu3Tly6dEmMHTtW6OnpSQ8BzeshlKdPnxYAxPXr14UQuR8wvGHDBqFWq8WyZcvEpUuXxHfffSdMTU1zPXT4RT/++KNwc3OTjRs2bJho2LChEOL5w2fd3d1F/fr1xcmTJ8XRo0eFh4eHaNSokdQ+r/dr+PDhsjYv8/HxEZ9//rk4e/asiI6OFv/++684cOCAEELk6xipVKmS7KG16enpwsrKSixfvjzP9R0+fFjo6uqKu3fvSuO2bNkijI2NRXJysrTd9vb2YseOHeLChQuiT58+omTJktIx9PL+FkKIv/76S7z4p2TixInC2NhYtGjRQpw6dUqcOXMmz3oCAwOFnp6eaNasmThx4oQIDw8Xrq6uonv37lKb1atXCzs7O7F582Zx7do1sXnzZmFhYSGCgoKkNlOmTBGHDx8W169fF//884+wsbERP/30k6yenPc/OTlZdO7cWbRo0ULExsaK2NhYkZaWJj0AtXLlymLbtm0iKipKdOrUSTg6OsoezPsyvPAQ1VmzZgkHBwdx8OBBcePGDXHo0CGxdu3aXPPEx8eLGjVqiAEDBrxyuaQdDERUrOQViOrXry9rU7t2bemPbF5sbGxkT87OzMwUZcuWlZb77NkzYWRkJI4cOSKbz8/PT3Tr1k0I8X9/jPfs2SNN3759uwAgnj59KoQQomnTpmLatGmyZaxatUrY2dlJwwDEiBEj3rjd/v7+omPHjtJwQQPR999/Lw2npKQIAGLnzp1CCCG+/fZb4eLiIj2RXAghFi5cKExMTERWVpYQQoiaNWtK+65du3bixx9/FPr6+iI5OVkKNC8/tTxHfHy8FKiys7OFhYWFmD59uhSoVq9eLUqXLi21t7e3Fz/++KNsGbVr1xaDBw8WQhQsEHl5eUnz5/D09HxtILpz547Q1dUVx44dE0L8X7DI+aMbEhIidHV1RUxMjDTPhQsXBADpSfcFCUTVqlWThec3efkY+emnn4Srq6s0vHnzZmFiYiJSUlJeuQw3NzdZWGjTpo3w9fUVQjw/XvT09MSaNWuk6enp6cLe3l4KXvkNRHp6euL+/fuv3Z7AwEABQFy9elUat3DhQmFjYyMNly9fPleomDJlivDy8nrlcmfNmiU8PDxk9bz4/uf1XuUEomXLlknjct7jyMjIV67rxUA0dOhQ8dlnn8k+Xy9LTEwU7u7uon379iI9Pf2V7Ug7eMmMir3q1avLhu3s7HD//v082yYmJuLevXuoU6eONE5XVxceHh7S8NWrV/HkyRN8/vnnMDExkV4rV65EdHT0K9dtZ2cHANK6z5w5g8mTJ8uWMWDAAMTGxuLJkyfSfLVq1cpV58KFC+Hh4YFSpUrBxMQES5cuRUxMTH53ySu9WK+xsTE0Go1Ub2RkJLy8vGSXN+rVq4eUlBTcvn0bANCoUSOEhoZCCIFDhw6hQ4cOcHV1xX///YcDBw7A3t4eFStWzHPd5ubmqFGjBkJDQ3Hu3Dno6+tj4MCBOH36NFJSUnDgwAE0atQIAJCUlIS7d++iXr16smXUq1cPkZGRBd7+yMhIeHp6ysZ5eXm9dh57e3v4+Phg+fLlAIB///0XaWlp+PLLL6VlOjg4wMHBQZrHzc0N5ubm71TrsGHDMHXqVNSrVw8TJ07E2bNnZdPfdIz4+vri6tWrOHr0KIDnl7M6d+4MY2PjV66zf//+CAwMBADcu3cPO3fuRL9+/QAA0dHRyMjIkL0nenp6qFOnzltvp6OjI0qVKvXGdkZGRihfvrw0/OJnOzU1FdHR0fDz85N9xqZOnSr7nG7YsAH16tWDra0tTExM8P333xf4s/S6z/ub+Pr6IiIiAi4uLhg2bBhCQkJytfntt9/w+PFjrF+/Hnp6egWqkd4fBiIq9l7+4lCpVMjOzi7w8lJSUgAA27dvR0REhPS6ePGirB/Ry+vOCRI5605JScGkSZNkyzh37hyuXLki6zfx8h+o9evXY/To0fDz80NISAgiIiLQt2/fQul8+q77qnHjxvjvv/9w5swZ6OnpoXLlymjcuDFCQ0NlgeZ187/Y1sLCQhao3jT/i3R0nn89iRcet/i+OqX3798f69evx9OnTxEYGIguXbrAyMgo3/Pr6OjI6gTeXGv//v1x7do19OrVC+fOnUOtWrXwyy+/AMjfMWJtbY02bdogMDAwV7h5ld69e+PatWsICwvD6tWr4ezs/Mo+R++yna8LZS/K63jNWX7O5/T333+XfcbOnz8vhcCwsDD06NEDrVq1wrZt23D69Gl89913Bf4sve7z/iY1a9bE9evXMWXKFDx9+hSdO3dGp06dZG3u3r0LZ2dn6OvrF6g+er9KaLsAosJkZmYGGxsbnDhxAg0bNgTwvIPqqVOnpN8icXNzg1qtRkxMzFv9gX5ZzZo1ERUVhQoVKrzVfIcPH8ann36KwYMHS+NePjP1Pri6umLz5s0QQkhf9ocPH4apqSnKlCkDAGjQoAGSk5Mxb948ad80btwYM2bMQHx8PL755pvXrqNRo0ZYvnw5SpQogRYtWkjzr1u3DpcvX5Y6GWs0Gtjb2+Pw4cOy9+Dw4cPS2b2cMwyxsbEoWbIkALzxd2JcXV1x7Ngx9O7dWxqX88fzdVq1agVjY2MsXrwYwcHBOHjwoGyZt27dwq1bt6SzRBcvXkRCQgLc3NykWs+fPy9bZkRExBvPAjg4OGDQoEEYNGgQxo8fj99//x1Dhw7N9zHSv39/dOvWDWXKlEH58uVznXF7maWlJdq1a4fAwECEhYWhb9++0rTy5ctDX18fhw8fhqOjI4DnYefEiRMYMWKEtJ3JyclITU2VQs/b/nZPftnY2MDe3h7Xrl1Djx498mxz5MgRODo64rvvvpPG3bx587XL1dfXl24cKGwajQZdunRBly5d0KlTJ7Ro0QKPHz+GhYUFAGDUqFGys8dUvDAQ0Udn6NChmD59OipUqIDKlSvjl19+QXx8vBQCTE1NMXr0aIwcORLZ2dmoX78+EhMTcfjwYWg0GvTp0ydf65kwYQJat26NsmXLolOnTtDR0cGZM2dw/vx5TJ069ZXzVaxYEStXrsSuXbvg7OyMVatW4cSJE3B2di6U7X+VwYMHY/78+Rg6dCiGDBmCqKgoTJw4EaNGjZLOxpQsWRLVq1fHmjVr8OuvvwIAGjZsiM6dOyMjI+ONAbJhw4ZITk7Gtm3bMGPGDADPA1GnTp1gZ2eHSpUqSW3HjBmDiRMnonz58nB3d0dgYCAiIiKwZs0aAM/vSHNwcEBAQAB+/PFHXL58GXPmzHnt+ocPHw5fX1/UqlUL9erVw5o1a3DhwgWUK1futfPp6urC19cX48ePR8WKFWWX2Zo1a4Zq1aqhR48emD9/PjIzMzF48GA0atRIuhz62WefYdasWVi5ciW8vLywevVqnD9/Hp988skr1zlixAi0bNkSlSpVQnx8PPbv3w9XV1cA+T9GvL29odFoMHXqVEyePPm125ijf//+aN26NbKysmTHurGxMb7++muMGTMGFhYWKFu2LGbOnIknT57Az88PAODp6QkjIyN8++23GDZsGI4dO4agoKB8rbcgJk2ahGHDhsHMzAwtWrRAWloaTp48ifj4eIwaNQoVK1ZETEwM1q9fj9q1a2P79u3466+/XrtMJycn7Nq1C1FRUbC0tISZmVmh1Dp37lzY2dnhk08+gY6ODjZt2gRbW1vZXXmLFi3CnTt3sHLlykJZJxUuXjKjj864cePQrVs39O7dG15eXjAxMYG3t7fsMtaUKVPwww8/YPr06XB1dUWLFi2wffv2twol3t7e2LZtG0JCQlC7dm3UrVsX8+bNk/51/SpfffUVOnTogC5dusDT0xOPHj2SnQnIS1BQkKzvT0GULl0aO3bswPHjx1GjRg0MGjQIfn5++P7772XtGjVqhKysLOlsjoWFBdzc3GBrawsXF5fXrqNkyZKoVq0aSpUqhcqVKwN4HpKys7Nzhalhw4Zh1KhR+Oabb1CtWjUEBwfjn3/+kfoo6enpYd26dbh06RKqV6+On3766bVBEwC6dOmCH374AWPHjoWHhwdu3ryJr7/+Ol/7x8/PD+np6bKzJsDzSyd///03SpYsiYYNG6JZs2YoV64cNmzYILXx9vaW1lu7dm0kJyfLzlLlJSsrC/7+/tLxV6lSJemW8vweIzo6OvD19UVWVtYb15ejWbNmsLOzg7e3N+zt7WXTZsyYgY4dO6JXr16oWbMmrl69il27dkln6CwsLLB69Wrs2LED1apVw7p16974Mxjvon///li2bBkCAwNRrVo1NGrUCEFBQdLn9IsvvsDIkSMxZMgQuLu748iRI/jhhx9eu8wBAwbAxcUFtWrVQqlSpXD48OFCqdXU1BQzZ85ErVq1ULt2bdy4cQM7duyQ/rEBPD/bWRh9Ben9UImXLwgTfWSys7Ph6uqKzp07Y8qUKdoup0AmTpyIAwcOyH4zhQrXoUOH0LRpU9y6dQs2NjbaLiff/Pz88ODBg1y/OfUqKSkpKF26NAIDA9GhQ4f3XB3Rh4OXzOijc/PmTYSEhKBRo0ZIS0vDr7/+iuvXr6N79+7aLq3Adu7cKV3CosKVlpaGBw8eICAgAF9++eUHE4YSExNx7tw5rF27Nl9hKDs7Gw8fPsScOXNgbm6OL774ogiqJPpwMBDRR0dHRwdBQUEYPXo0hBCoWrUq9uzZI/XP+BAdP35c2yV8tNatWwc/Pz+4u7t/UH072rZti+PHj2PQoEH4/PPP39g+JiYGzs7OKFOmDIKCglCiBL/+iV7ES2ZERESkeOxUTURERIrHQERERESKx0BEREREisdARERERIrHQERERESKx0BEREREisdARERERIrHQERERESKx0BEREREivf/ABpOY/DVmyyyAAAAAElFTkSuQmCC",
      "text/plain": [
       "<Figure size 640x480 with 1 Axes>"
      ]
     },
     "metadata": {},
     "output_type": "display_data"
    }
   ],
   "source": [
    "import seaborn as sns \n",
    "import matplotlib.pyplot as plt\n",
    "import pandas as pd\n",
    "\n",
    "# Make histograms for GeneralHealth\n",
    "var = 'GeneralHealth'\n",
    "new_df = df\n",
    "new_df = new_df[new_df['GeneralHealth'] != 'no response']\n",
    "\n",
    "# Generate histogram\n",
    "sns.histplot(new_df[var], kde=False, color='blue', bins=30)\n",
    "print(new_df[var].unique())\n",
    "plt.legend()\n",
    "plt.xlabel('In general, how would you say your health is?')\n",
    "plt.ylabel('Frequency')\n",
    "plt.title('Histogram of General Health of Respondents')\n",
    "plt.show()"
   ]
  },
  {
   "cell_type": "code",
   "execution_count": 1127,
   "metadata": {},
   "outputs": [
    {
     "data": {
      "image/png": "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",
      "text/plain": [
       "<Figure size 1000x600 with 2 Axes>"
      ]
     },
     "metadata": {},
     "output_type": "display_data"
    }
   ],
   "source": [
    "# Filter out 'no response' values in both columns\n",
    "filtered_df = df[(df['InsuranceLimits'] != 'no response') & (df['FinancialSatisfaction'] != 'no response')]\n",
    "# Create a cross-tabulation\n",
    "cross_tab = pd.crosstab(filtered_df['InsuranceLimits'], filtered_df['FinancialSatisfaction'])\n",
    "\n",
    "# Create a visualization (e.g., a heatmap)\n",
    "plt.figure(figsize=(10, 6))\n",
    "sns.heatmap(cross_tab, annot=True, cmap=\"YlGnBu\", fmt='d')\n",
    "plt.title('Cross-Tabulation: InsuranceLimits vs. FinancialSatisfaction')\n",
    "plt.xlabel('FinancialSatisfaction')\n",
    "plt.ylabel('InsuranceLimits')\n",
    "plt.show()\n"
   ]
  }
 ],
 "metadata": {
  "kernelspec": {
   "display_name": "Python 3",
   "language": "python",
   "name": "python3"
  },
  "language_info": {
   "codemirror_mode": {
    "name": "ipython",
    "version": 3
   },
   "file_extension": ".py",
   "mimetype": "text/x-python",
   "name": "python",
   "nbconvert_exporter": "python",
   "pygments_lexer": "ipython3",
   "version": "3.10.6"
  },
  "orig_nbformat": 4
 },
 "nbformat": 4,
 "nbformat_minor": 2
}
